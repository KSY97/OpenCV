{
  "nbformat": 4,
  "nbformat_minor": 0,
  "metadata": {
    "colab": {
      "name": "Untitled7.ipynb",
      "provenance": []
    },
    "kernelspec": {
      "name": "python3",
      "display_name": "Python 3"
    },
    "language_info": {
      "name": "python"
    },
    "accelerator": "GPU",
    "gpuClass": "standard"
  },
  "cells": [
    {
      "cell_type": "code",
      "execution_count": null,
      "metadata": {
        "colab": {
          "base_uri": "https://localhost:8080/"
        },
        "id": "DVWUy9DtUU0-",
        "outputId": "757c8700-8ea2-4704-e862-8c1cb2be6469"
      },
      "outputs": [
        {
          "output_type": "stream",
          "name": "stdout",
          "text": [
            "(25000,) (25000,)\n"
          ]
        }
      ],
      "source": [
        "from tensorflow.keras.datasets import imdb\n",
        "(train_input, train_target), (test_input, test_target) = imdb.load_data(num_words = 500)\n",
        "print(train_input.shape, test_input.shape)"
      ]
    },
    {
      "cell_type": "code",
      "source": [
        "print(len(train_input[0]))\n",
        "print(len(train_input[1]))\n",
        "print(train_input[0])"
      ],
      "metadata": {
        "colab": {
          "base_uri": "https://localhost:8080/"
        },
        "id": "OObimvJkU1Sw",
        "outputId": "ca8b4045-81f2-4435-dc41-fbdc6ff0061a"
      },
      "execution_count": null,
      "outputs": [
        {
          "output_type": "stream",
          "name": "stdout",
          "text": [
            "218\n",
            "189\n",
            "[1, 14, 22, 16, 43, 2, 2, 2, 2, 65, 458, 2, 66, 2, 4, 173, 36, 256, 5, 25, 100, 43, 2, 112, 50, 2, 2, 9, 35, 480, 284, 5, 150, 4, 172, 112, 167, 2, 336, 385, 39, 4, 172, 2, 2, 17, 2, 38, 13, 447, 4, 192, 50, 16, 6, 147, 2, 19, 14, 22, 4, 2, 2, 469, 4, 22, 71, 87, 12, 16, 43, 2, 38, 76, 15, 13, 2, 4, 22, 17, 2, 17, 12, 16, 2, 18, 2, 5, 62, 386, 12, 8, 316, 8, 106, 5, 4, 2, 2, 16, 480, 66, 2, 33, 4, 130, 12, 16, 38, 2, 5, 25, 124, 51, 36, 135, 48, 25, 2, 33, 6, 22, 12, 215, 28, 77, 52, 5, 14, 407, 16, 82, 2, 8, 4, 107, 117, 2, 15, 256, 4, 2, 7, 2, 5, 2, 36, 71, 43, 2, 476, 26, 400, 317, 46, 7, 4, 2, 2, 13, 104, 88, 4, 381, 15, 297, 98, 32, 2, 56, 26, 141, 6, 194, 2, 18, 4, 226, 22, 21, 134, 476, 26, 480, 5, 144, 30, 2, 18, 51, 36, 28, 224, 92, 25, 104, 4, 226, 65, 16, 38, 2, 88, 12, 16, 283, 5, 16, 2, 113, 103, 32, 15, 16, 2, 19, 178, 32]\n"
          ]
        }
      ]
    },
    {
      "cell_type": "code",
      "source": [
        "print(train_target[:20])"
      ],
      "metadata": {
        "colab": {
          "base_uri": "https://localhost:8080/"
        },
        "id": "OUQ5sfdgU_0U",
        "outputId": "950c415c-60f5-498b-dc9e-4cf1831d7404"
      },
      "execution_count": null,
      "outputs": [
        {
          "output_type": "stream",
          "name": "stdout",
          "text": [
            "[1 0 0 1 0 0 1 0 1 0 1 0 0 0 0 0 1 1 0 1]\n"
          ]
        }
      ]
    },
    {
      "cell_type": "code",
      "source": [
        "from sklearn.model_selection import train_test_split\n",
        "train_input, val_input, train_target, val_target = train_test_split(\n",
        "    train_input, train_target, test_size=0.2, random_state=42\n",
        ")"
      ],
      "metadata": {
        "id": "Mv9OUgELVLT0"
      },
      "execution_count": null,
      "outputs": []
    },
    {
      "cell_type": "code",
      "source": [
        "import numpy as np\n",
        "lengths = np.array([len(x) for x in train_input])\n",
        "print(np.mean(lengths), np.median(lengths))"
      ],
      "metadata": {
        "colab": {
          "base_uri": "https://localhost:8080/"
        },
        "id": "ClofnNY4Vorh",
        "outputId": "8d01a431-5059-4d39-c8b1-52111c287057"
      },
      "execution_count": null,
      "outputs": [
        {
          "output_type": "stream",
          "name": "stdout",
          "text": [
            "239.00925 178.0\n"
          ]
        }
      ]
    },
    {
      "cell_type": "code",
      "source": [
        "import matplotlib.pyplot as plt\n",
        "plt.hist(lengths)\n",
        "plt.xlabel('length')\n",
        "plt.ylabel('frequency')\n",
        "plt.show()"
      ],
      "metadata": {
        "colab": {
          "base_uri": "https://localhost:8080/",
          "height": 279
        },
        "id": "8gRRd7duV6xR",
        "outputId": "71f6ba6d-3a03-4d3f-ea02-9f6227176564"
      },
      "execution_count": null,
      "outputs": [
        {
          "output_type": "display_data",
          "data": {
            "text/plain": [
              "<Figure size 432x288 with 1 Axes>"
            ],
            "image/png": "[encoded data removed]"
          },
          "metadata": {
            "needs_background": "light"
          }
        }
      ]
    },
    {
      "cell_type": "code",
      "source": [
        "from tensorflow.keras.preprocessing.sequence import pad_sequences\n",
        "train_seq = pad_sequences(train_input, maxlen=100)\n",
        "print(train_seq.shape)"
      ],
      "metadata": {
        "colab": {
          "base_uri": "https://localhost:8080/"
        },
        "id": "CKcGkXvcWTqe",
        "outputId": "7390d71d-6719-444d-d04f-d196d7364d2e"
      },
      "execution_count": null,
      "outputs": [
        {
          "output_type": "stream",
          "name": "stdout",
          "text": [
            "(20000, 100)\n"
          ]
        }
      ]
    },
    {
      "cell_type": "code",
      "source": [
        "print(train_seq[0])"
      ],
      "metadata": {
        "colab": {
          "base_uri": "https://localhost:8080/"
        },
        "id": "Dew0acdHWlkU",
        "outputId": "7e3ad324-4f5f-40d8-c127-132acca56074"
      },
      "execution_count": null,
      "outputs": [
        {
          "output_type": "stream",
          "name": "stdout",
          "text": [
            "[ 10   4  20   9   2 364 352   5  45   6   2   2  33 269   8   2 142   2\n",
            "   5   2  17  73  17 204   5   2  19  55   2   2  92  66 104  14  20  93\n",
            "  76   2 151  33   4  58  12 188   2 151  12 215  69 224 142  73 237   6\n",
            "   2   7   2   2 188   2 103  14  31  10  10 451   7   2   5   2  80  91\n",
            "   2  30   2  34  14  20 151  50  26 131  49   2  84  46  50  37  80  79\n",
            "   6   2  46   7  14  20  10  10 470 158]\n"
          ]
        }
      ]
    },
    {
      "cell_type": "code",
      "source": [
        "print(train_input[0][-10:])"
      ],
      "metadata": {
        "colab": {
          "base_uri": "https://localhost:8080/"
        },
        "id": "94MQKa0TWpuC",
        "outputId": "7ef40d7a-1499-4dde-cc16-06bd45832afc"
      },
      "execution_count": null,
      "outputs": [
        {
          "output_type": "stream",
          "name": "stdout",
          "text": [
            "[6, 2, 46, 7, 14, 20, 10, 10, 470, 158]\n"
          ]
        }
      ]
    },
    {
      "cell_type": "code",
      "source": [
        "print(train_seq[5])"
      ],
      "metadata": {
        "colab": {
          "base_uri": "https://localhost:8080/"
        },
        "id": "TBAtWsFKWvWX",
        "outputId": "f4187c03-8bd8-478a-ebb6-587e9a62f314"
      },
      "execution_count": null,
      "outputs": [
        {
          "output_type": "stream",
          "name": "stdout",
          "text": [
            "[  0   0   0   0   1   2 195  19  49   2   2 190   4   2 352   2 183  10\n",
            "  10  13  82  79   4   2  36  71 269   8   2  25  19  49   7   4   2   2\n",
            "   2   2   2  10  10  48  25  40   2  11   2   2  40   2   2   5   4   2\n",
            "   2  95  14 238  56 129   2  10  10  21   2  94 364 352   2   2  11 190\n",
            "  24 484   2   7  94 205 405  10  10  87   2  34  49   2   7   2   2   2\n",
            "   2   2 290   2  46  48  64  18   4   2]\n"
          ]
        }
      ]
    },
    {
      "cell_type": "code",
      "source": [
        "val_seq = pad_sequences(val_input, maxlen=100)"
      ],
      "metadata": {
        "id": "eOcyytbDW1-L"
      },
      "execution_count": null,
      "outputs": []
    },
    {
      "cell_type": "code",
      "source": [
        "from tensorflow import keras\n",
        "model = keras.Sequential()\n",
        "model.add(keras.layers.SimpleRNN(8, input_shape=(100, 500)))\n",
        "model.add(keras.layers.Dense(1, activation='sigmoid'))"
      ],
      "metadata": {
        "id": "JsVkj_BIW7dH"
      },
      "execution_count": null,
      "outputs": []
    },
    {
      "cell_type": "code",
      "source": [
        "train_oh = keras.utils.to_categorical(train_seq)\n",
        "print(train_oh.shape)\n",
        "print(train_oh[0][0][:12])\n",
        "print(np.sum(train_oh[0][0]))\n",
        "val_oh = keras.utils.to_categorical(val_seq)"
      ],
      "metadata": {
        "colab": {
          "base_uri": "https://localhost:8080/"
        },
        "id": "DBwYJF-7Xds8",
        "outputId": "26112d9e-daed-45dd-e87a-d3af5263a6e7"
      },
      "execution_count": null,
      "outputs": [
        {
          "output_type": "stream",
          "name": "stdout",
          "text": [
            "(20000, 100, 500)\n",
            "[0. 0. 0. 0. 0. 0. 0. 0. 0. 0. 1. 0.]\n",
            "1.0\n"
          ]
        }
      ]
    },
    {
      "cell_type": "code",
      "source": [
        "model.summary()"
      ],
      "metadata": {
        "colab": {
          "base_uri": "https://localhost:8080/"
        },
        "id": "bD4K3Ry3X0ZI",
        "outputId": "65236880-8adc-451a-9f72-4633ba608505"
      },
      "execution_count": null,
      "outputs": [
        {
          "output_type": "stream",
          "name": "stdout",
          "text": [
            "Model: \"sequential\"\n",
            "_________________________________________________________________\n",
            " Layer (type)                Output Shape              Param #   \n",
            "=================================================================\n",
            " simple_rnn (SimpleRNN)      (None, 8)                 4072      \n",
            "                                                                 \n",
            " dense (Dense)               (None, 1)                 9         \n",
            "                                                                 \n",
            "=================================================================\n",
            "Total params: 4,081\n",
            "Trainable params: 4,081\n",
            "Non-trainable params: 0\n",
            "_________________________________________________________________\n"
          ]
        }
      ]
    },
    {
      "cell_type": "code",
      "source": [
        "rmsprop = keras.optimizers.RMSprop(learning_rate=1e-4)\n",
        "model.compile(optimizer=rmsprop, loss='binary_crossentropy', metrics=['accuracy'])\n",
        "checkpoint_cb = keras.callbacks.ModelCheckpoint('best-simplernn-model.h5', save_best_only=True)\n",
        "esc = keras.callbacks.EarlyStopping(patience=3, restore_best_weights=True)\n",
        "history=model.fit(train_oh, train_target, epochs=100, batch_size=64, validation_data=(val_oh, val_target), callbacks=[checkpoint_cb, esc])"
      ],
      "metadata": {
        "colab": {
          "base_uri": "https://localhost:8080/"
        },
        "id": "03anmaknX6ez",
        "outputId": "a8c9d17b-64d1-40fd-ae05-b194ac7635dc"
      },
      "execution_count": null,
      "outputs": [
        {
          "output_type": "stream",
          "name": "stdout",
          "text": [
            "Epoch 1/100\n",
            "313/313 [==============================] - 28s 84ms/step - loss: 0.7015 - accuracy: 0.5082 - val_loss: 0.6999 - val_accuracy: 0.5056\n",
            "Epoch 2/100\n",
            "313/313 [==============================] - 26s 83ms/step - loss: 0.6951 - accuracy: 0.5199 - val_loss: 0.6957 - val_accuracy: 0.5132\n",
            "Epoch 3/100\n",
            "313/313 [==============================] - 25s 81ms/step - loss: 0.6907 - accuracy: 0.5310 - val_loss: 0.6926 - val_accuracy: 0.5184\n",
            "Epoch 4/100\n",
            "313/313 [==============================] - 25s 81ms/step - loss: 0.6871 - accuracy: 0.5423 - val_loss: 0.6899 - val_accuracy: 0.5310\n",
            "Epoch 5/100\n",
            "313/313 [==============================] - 24s 77ms/step - loss: 0.6838 - accuracy: 0.5531 - val_loss: 0.6873 - val_accuracy: 0.5374\n",
            "Epoch 6/100\n",
            "313/313 [==============================] - 25s 79ms/step - loss: 0.6806 - accuracy: 0.5630 - val_loss: 0.6849 - val_accuracy: 0.5408\n",
            "Epoch 7/100\n",
            "313/313 [==============================] - 25s 81ms/step - loss: 0.6772 - accuracy: 0.5755 - val_loss: 0.6822 - val_accuracy: 0.5490\n",
            "Epoch 8/100\n",
            "313/313 [==============================] - 24s 78ms/step - loss: 0.6734 - accuracy: 0.5853 - val_loss: 0.6790 - val_accuracy: 0.5570\n",
            "Epoch 9/100\n",
            "313/313 [==============================] - 25s 78ms/step - loss: 0.6689 - accuracy: 0.5957 - val_loss: 0.6747 - val_accuracy: 0.5688\n",
            "Epoch 10/100\n",
            "313/313 [==============================] - 25s 78ms/step - loss: 0.6628 - accuracy: 0.6082 - val_loss: 0.6677 - val_accuracy: 0.5922\n",
            "Epoch 11/100\n",
            "313/313 [==============================] - 25s 79ms/step - loss: 0.6510 - accuracy: 0.6280 - val_loss: 0.6453 - val_accuracy: 0.6308\n",
            "Epoch 12/100\n",
            "313/313 [==============================] - 25s 78ms/step - loss: 0.6002 - accuracy: 0.6828 - val_loss: 0.5796 - val_accuracy: 0.7032\n",
            "Epoch 13/100\n",
            "313/313 [==============================] - 25s 81ms/step - loss: 0.5655 - accuracy: 0.7158 - val_loss: 0.5595 - val_accuracy: 0.7242\n",
            "Epoch 14/100\n",
            "313/313 [==============================] - 25s 79ms/step - loss: 0.5453 - accuracy: 0.7339 - val_loss: 0.5420 - val_accuracy: 0.7412\n",
            "Epoch 15/100\n",
            "313/313 [==============================] - 25s 78ms/step - loss: 0.5286 - accuracy: 0.7480 - val_loss: 0.5331 - val_accuracy: 0.7478\n",
            "Epoch 16/100\n",
            "313/313 [==============================] - 25s 80ms/step - loss: 0.5154 - accuracy: 0.7598 - val_loss: 0.5203 - val_accuracy: 0.7552\n",
            "Epoch 17/100\n",
            "313/313 [==============================] - 24s 78ms/step - loss: 0.5040 - accuracy: 0.7681 - val_loss: 0.5135 - val_accuracy: 0.7622\n",
            "Epoch 18/100\n",
            "313/313 [==============================] - 25s 81ms/step - loss: 0.4950 - accuracy: 0.7737 - val_loss: 0.5074 - val_accuracy: 0.7628\n",
            "Epoch 19/100\n",
            "313/313 [==============================] - 25s 78ms/step - loss: 0.4868 - accuracy: 0.7775 - val_loss: 0.5022 - val_accuracy: 0.7656\n",
            "Epoch 20/100\n",
            "313/313 [==============================] - 24s 78ms/step - loss: 0.4796 - accuracy: 0.7836 - val_loss: 0.4953 - val_accuracy: 0.7708\n",
            "Epoch 21/100\n",
            "313/313 [==============================] - 24s 78ms/step - loss: 0.4738 - accuracy: 0.7867 - val_loss: 0.4916 - val_accuracy: 0.7724\n",
            "Epoch 22/100\n",
            "313/313 [==============================] - 25s 79ms/step - loss: 0.4684 - accuracy: 0.7915 - val_loss: 0.4897 - val_accuracy: 0.7754\n",
            "Epoch 23/100\n",
            "313/313 [==============================] - 25s 81ms/step - loss: 0.4642 - accuracy: 0.7933 - val_loss: 0.4904 - val_accuracy: 0.7724\n",
            "Epoch 24/100\n",
            "313/313 [==============================] - 24s 78ms/step - loss: 0.4592 - accuracy: 0.7947 - val_loss: 0.4826 - val_accuracy: 0.7754\n",
            "Epoch 25/100\n",
            "313/313 [==============================] - 24s 78ms/step - loss: 0.4558 - accuracy: 0.7969 - val_loss: 0.4811 - val_accuracy: 0.7778\n",
            "Epoch 26/100\n",
            "313/313 [==============================] - 25s 78ms/step - loss: 0.4519 - accuracy: 0.7997 - val_loss: 0.4788 - val_accuracy: 0.7796\n",
            "Epoch 27/100\n",
            "313/313 [==============================] - 25s 78ms/step - loss: 0.4483 - accuracy: 0.8028 - val_loss: 0.4768 - val_accuracy: 0.7828\n",
            "Epoch 28/100\n",
            "313/313 [==============================] - 25s 81ms/step - loss: 0.4463 - accuracy: 0.8023 - val_loss: 0.4761 - val_accuracy: 0.7830\n",
            "Epoch 29/100\n",
            "313/313 [==============================] - 25s 80ms/step - loss: 0.4439 - accuracy: 0.8038 - val_loss: 0.4761 - val_accuracy: 0.7778\n",
            "Epoch 30/100\n",
            "313/313 [==============================] - 24s 78ms/step - loss: 0.4410 - accuracy: 0.8064 - val_loss: 0.4737 - val_accuracy: 0.7816\n",
            "Epoch 31/100\n",
            "313/313 [==============================] - 24s 77ms/step - loss: 0.4398 - accuracy: 0.8073 - val_loss: 0.4741 - val_accuracy: 0.7800\n",
            "Epoch 32/100\n",
            "313/313 [==============================] - 25s 79ms/step - loss: 0.4372 - accuracy: 0.8089 - val_loss: 0.4802 - val_accuracy: 0.7746\n",
            "Epoch 33/100\n",
            "313/313 [==============================] - 24s 78ms/step - loss: 0.4350 - accuracy: 0.8084 - val_loss: 0.4728 - val_accuracy: 0.7806\n",
            "Epoch 34/100\n",
            "313/313 [==============================] - 26s 82ms/step - loss: 0.4332 - accuracy: 0.8116 - val_loss: 0.4723 - val_accuracy: 0.7810\n",
            "Epoch 35/100\n",
            "313/313 [==============================] - 25s 79ms/step - loss: 0.4321 - accuracy: 0.8104 - val_loss: 0.4703 - val_accuracy: 0.7844\n",
            "Epoch 36/100\n",
            "313/313 [==============================] - 25s 79ms/step - loss: 0.4307 - accuracy: 0.8105 - val_loss: 0.4699 - val_accuracy: 0.7828\n",
            "Epoch 37/100\n",
            "313/313 [==============================] - 24s 77ms/step - loss: 0.4290 - accuracy: 0.8130 - val_loss: 0.4731 - val_accuracy: 0.7822\n",
            "Epoch 38/100\n",
            "313/313 [==============================] - 24s 78ms/step - loss: 0.4276 - accuracy: 0.8152 - val_loss: 0.4659 - val_accuracy: 0.7862\n",
            "Epoch 39/100\n",
            "313/313 [==============================] - 26s 82ms/step - loss: 0.4270 - accuracy: 0.8136 - val_loss: 0.4661 - val_accuracy: 0.7852\n",
            "Epoch 40/100\n",
            "313/313 [==============================] - 25s 78ms/step - loss: 0.4257 - accuracy: 0.8144 - val_loss: 0.4652 - val_accuracy: 0.7858\n",
            "Epoch 41/100\n",
            "313/313 [==============================] - 25s 80ms/step - loss: 0.4240 - accuracy: 0.8166 - val_loss: 0.4656 - val_accuracy: 0.7864\n",
            "Epoch 42/100\n",
            "313/313 [==============================] - 25s 79ms/step - loss: 0.4238 - accuracy: 0.8154 - val_loss: 0.4643 - val_accuracy: 0.7852\n",
            "Epoch 43/100\n",
            "313/313 [==============================] - 25s 78ms/step - loss: 0.4221 - accuracy: 0.8188 - val_loss: 0.4708 - val_accuracy: 0.7838\n",
            "Epoch 44/100\n",
            "313/313 [==============================] - 25s 80ms/step - loss: 0.4214 - accuracy: 0.8174 - val_loss: 0.4641 - val_accuracy: 0.7854\n",
            "Epoch 45/100\n",
            "313/313 [==============================] - 25s 79ms/step - loss: 0.4197 - accuracy: 0.8196 - val_loss: 0.4712 - val_accuracy: 0.7816\n",
            "Epoch 46/100\n",
            "313/313 [==============================] - 24s 78ms/step - loss: 0.4191 - accuracy: 0.8182 - val_loss: 0.4679 - val_accuracy: 0.7842\n",
            "Epoch 47/100\n",
            "313/313 [==============================] - 25s 79ms/step - loss: 0.4172 - accuracy: 0.8206 - val_loss: 0.4674 - val_accuracy: 0.7828\n"
          ]
        }
      ]
    },
    {
      "cell_type": "code",
      "source": [
        "plt.plot(history.history['loss'])\n",
        "plt.plot(history.history['val_loss'])\n",
        "plt.xlabel('epoch')\n",
        "plt.ylabel('loss')\n",
        "plt.legend(['train', 'val'])\n",
        "plt.show()"
      ],
      "metadata": {
        "colab": {
          "base_uri": "https://localhost:8080/",
          "height": 279
        },
        "id": "ZGoCGkxpaPLN",
        "outputId": "c2c5b3eb-bcad-4b79-cbac-4669793a913d"
      },
      "execution_count": null,
      "outputs": [
        {
          "output_type": "display_data",
          "data": {
            "text/plain": [
              "<Figure size 432x288 with 1 Axes>"
            ],
            "image/png": "[encoded data removed]"
          },
          "metadata": {
            "needs_background": "light"
          }
        }
      ]
    },
    {
      "cell_type": "code",
      "source": [
        "model2=keras.Sequential()\n",
        "model2.add(keras.layers.Embedding(500, 16, input_length=100))\n",
        "model2.add(keras.layers.SimpleRNN(8))\n",
        "model2.add(keras.layers.Dense(1, activation='sigmoid'))\n",
        "\n",
        "model2.summary()"
      ],
      "metadata": {
        "colab": {
          "base_uri": "https://localhost:8080/"
        },
        "id": "Ozkl54Knbb9C",
        "outputId": "5897d20d-4583-46de-8575-d6ad3d6890fe"
      },
      "execution_count": null,
      "outputs": [
        {
          "output_type": "stream",
          "name": "stdout",
          "text": [
            "Model: \"sequential_3\"\n",
            "_________________________________________________________________\n",
            " Layer (type)                Output Shape              Param #   \n",
            "=================================================================\n",
            " embedding_2 (Embedding)     (None, 100, 16)           8000      \n",
            "                                                                 \n",
            " simple_rnn_1 (SimpleRNN)    (None, 8)                 200       \n",
            "                                                                 \n",
            " dense_2 (Dense)             (None, 1)                 9         \n",
            "                                                                 \n",
            "=================================================================\n",
            "Total params: 8,209\n",
            "Trainable params: 8,209\n",
            "Non-trainable params: 0\n",
            "_________________________________________________________________\n"
          ]
        }
      ]
    },
    {
      "cell_type": "code",
      "source": [
        "rmsprop = keras.optimizers.RMSprop(learning_rate=1e-4)\n",
        "model2.compile(optimizer=rmsprop, loss='binary_crossentropy', metrics=['accuracy'])\n",
        "checkpoint_cb = keras.callbacks.ModelCheckpoint('best-embedding-model.h5', save_best_only=True)\n",
        "esc = keras.callbacks.EarlyStopping(patience=3, restore_best_weights=True)\n",
        "history=model2.fit(train_seq, train_target, epochs=100, batch_size=64, validation_data=(val_seq, val_target), callbacks=[checkpoint_cb, esc])"
      ],
      "metadata": {
        "colab": {
          "base_uri": "https://localhost:8080/"
        },
        "id": "wRF2D8oGdGwB",
        "outputId": "1a07e285-d685-4c21-8340-0b25697451a2"
      },
      "execution_count": null,
      "outputs": [
        {
          "output_type": "stream",
          "name": "stdout",
          "text": [
            "Epoch 1/100\n",
            "313/313 [==============================] - 32s 98ms/step - loss: 0.6943 - accuracy: 0.5203 - val_loss: 0.6881 - val_accuracy: 0.5476\n",
            "Epoch 2/100\n",
            "313/313 [==============================] - 30s 95ms/step - loss: 0.6781 - accuracy: 0.5882 - val_loss: 0.6722 - val_accuracy: 0.6142\n",
            "Epoch 3/100\n",
            "313/313 [==============================] - 30s 97ms/step - loss: 0.6596 - accuracy: 0.6572 - val_loss: 0.6539 - val_accuracy: 0.6682\n",
            "Epoch 4/100\n",
            "313/313 [==============================] - 30s 94ms/step - loss: 0.6391 - accuracy: 0.7045 - val_loss: 0.6338 - val_accuracy: 0.7096\n",
            "Epoch 5/100\n",
            "313/313 [==============================] - 30s 95ms/step - loss: 0.6182 - accuracy: 0.7293 - val_loss: 0.6157 - val_accuracy: 0.7266\n",
            "Epoch 6/100\n",
            "313/313 [==============================] - 30s 95ms/step - loss: 0.5976 - accuracy: 0.7459 - val_loss: 0.6007 - val_accuracy: 0.7354\n",
            "Epoch 7/100\n",
            "313/313 [==============================] - 30s 97ms/step - loss: 0.5779 - accuracy: 0.7594 - val_loss: 0.5784 - val_accuracy: 0.7510\n",
            "Epoch 8/100\n",
            "313/313 [==============================] - 31s 98ms/step - loss: 0.5595 - accuracy: 0.7680 - val_loss: 0.5629 - val_accuracy: 0.7584\n",
            "Epoch 9/100\n",
            "313/313 [==============================] - 30s 95ms/step - loss: 0.5419 - accuracy: 0.7757 - val_loss: 0.5489 - val_accuracy: 0.7546\n",
            "Epoch 10/100\n",
            "313/313 [==============================] - 30s 96ms/step - loss: 0.5257 - accuracy: 0.7836 - val_loss: 0.5358 - val_accuracy: 0.7656\n",
            "Epoch 11/100\n",
            "313/313 [==============================] - 31s 98ms/step - loss: 0.5113 - accuracy: 0.7913 - val_loss: 0.5237 - val_accuracy: 0.7678\n",
            "Epoch 12/100\n",
            "313/313 [==============================] - 30s 97ms/step - loss: 0.4991 - accuracy: 0.7935 - val_loss: 0.5168 - val_accuracy: 0.7644\n",
            "Epoch 13/100\n",
            "313/313 [==============================] - 30s 94ms/step - loss: 0.4874 - accuracy: 0.7965 - val_loss: 0.5079 - val_accuracy: 0.7690\n",
            "Epoch 14/100\n",
            "313/313 [==============================] - 30s 95ms/step - loss: 0.4777 - accuracy: 0.8007 - val_loss: 0.5004 - val_accuracy: 0.7742\n",
            "Epoch 15/100\n",
            "313/313 [==============================] - 30s 96ms/step - loss: 0.4689 - accuracy: 0.8027 - val_loss: 0.4957 - val_accuracy: 0.7800\n",
            "Epoch 16/100\n",
            "313/313 [==============================] - 30s 96ms/step - loss: 0.4608 - accuracy: 0.8059 - val_loss: 0.4944 - val_accuracy: 0.7726\n",
            "Epoch 17/100\n",
            "313/313 [==============================] - 30s 97ms/step - loss: 0.4535 - accuracy: 0.8082 - val_loss: 0.4854 - val_accuracy: 0.7800\n",
            "Epoch 18/100\n",
            "313/313 [==============================] - 30s 95ms/step - loss: 0.4472 - accuracy: 0.8096 - val_loss: 0.4830 - val_accuracy: 0.7790\n",
            "Epoch 19/100\n",
            "313/313 [==============================] - 30s 95ms/step - loss: 0.4411 - accuracy: 0.8135 - val_loss: 0.4784 - val_accuracy: 0.7814\n",
            "Epoch 20/100\n",
            "313/313 [==============================] - 30s 95ms/step - loss: 0.4369 - accuracy: 0.8150 - val_loss: 0.4780 - val_accuracy: 0.7818\n",
            "Epoch 21/100\n",
            "313/313 [==============================] - 30s 96ms/step - loss: 0.4330 - accuracy: 0.8139 - val_loss: 0.4745 - val_accuracy: 0.7808\n",
            "Epoch 22/100\n",
            "313/313 [==============================] - 30s 97ms/step - loss: 0.4287 - accuracy: 0.8165 - val_loss: 0.4740 - val_accuracy: 0.7814\n",
            "Epoch 23/100\n",
            "313/313 [==============================] - 30s 97ms/step - loss: 0.4250 - accuracy: 0.8181 - val_loss: 0.4765 - val_accuracy: 0.7828\n",
            "Epoch 24/100\n",
            "313/313 [==============================] - 30s 96ms/step - loss: 0.4218 - accuracy: 0.8208 - val_loss: 0.4738 - val_accuracy: 0.7810\n",
            "Epoch 25/100\n",
            "313/313 [==============================] - 30s 97ms/step - loss: 0.4188 - accuracy: 0.8234 - val_loss: 0.4738 - val_accuracy: 0.7806\n",
            "Epoch 26/100\n",
            "313/313 [==============================] - 31s 98ms/step - loss: 0.4164 - accuracy: 0.8230 - val_loss: 0.4727 - val_accuracy: 0.7838\n",
            "Epoch 27/100\n",
            "313/313 [==============================] - 30s 96ms/step - loss: 0.4130 - accuracy: 0.8242 - val_loss: 0.4748 - val_accuracy: 0.7780\n",
            "Epoch 28/100\n",
            "313/313 [==============================] - 30s 95ms/step - loss: 0.4107 - accuracy: 0.8256 - val_loss: 0.4777 - val_accuracy: 0.7818\n",
            "Epoch 29/100\n",
            "313/313 [==============================] - 30s 97ms/step - loss: 0.4089 - accuracy: 0.8266 - val_loss: 0.4741 - val_accuracy: 0.7806\n"
          ]
        }
      ]
    },
    {
      "cell_type": "code",
      "source": [
        "plt.plot(history.history['loss'])\n",
        "plt.plot(history.history['val_loss'])\n",
        "plt.xlabel('epoch')\n",
        "plt.ylabel('loss')\n",
        "plt.legend(['train', 'val'])\n",
        "plt.show()"
      ],
      "metadata": {
        "colab": {
          "base_uri": "https://localhost:8080/",
          "height": 279
        },
        "id": "e0IPr3kyd48j",
        "outputId": "0308a698-3135-4180-de81-aca03c66b138"
      },
      "execution_count": null,
      "outputs": [
        {
          "output_type": "display_data",
          "data": {
            "text/plain": [
              "<Figure size 432x288 with 1 Axes>"
            ],
            "image/png": "[encoded data removed]"
          },
          "metadata": {
            "needs_background": "light"
          }
        }
      ]
    },
    {
      "cell_type": "code",
      "source": [
        ""
      ],
      "metadata": {
        "id": "bh4v5LA_pbpN"
      },
      "execution_count": null,
      "outputs": []
    }
  ]
}