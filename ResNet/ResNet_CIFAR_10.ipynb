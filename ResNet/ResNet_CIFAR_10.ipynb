{
  "nbformat": 4,
  "nbformat_minor": 0,
  "metadata": {
    "colab": {
      "name": "ResNet_CIFAR_10.ipynb",
      "provenance": [],
      "collapsed_sections": [
        "w8fxyHBixkyJ",
        "HUdWKNsmRd3I",
        "qL_dFc0tuH6F",
        "_1rqKuDaBvw8",
        "81G_CJyFB3uk",
        "M1TlZWqM7bLM",
        "cOo0hUl0Fz7J"
      ]
    },
    "kernelspec": {
      "name": "python3",
      "display_name": "Python 3"
    },
    "language_info": {
      "name": "python"
    },
    "gpuClass": "standard",
    "accelerator": "GPU"
  },
  "cells": [
    {
      "cell_type": "markdown",
      "source": [
        "# Main"
      ],
      "metadata": {
        "id": "DCstDOAWCGY3"
      }
    },
    {
      "cell_type": "code",
      "execution_count": 1,
      "metadata": {
        "id": "g5Twf2mWq-Bm"
      },
      "outputs": [],
      "source": [
        "from tensorflow import keras\n",
        "from tensorflow.keras import optimizers\n",
        "from tensorflow.keras.models import Sequential\n",
        "from tensorflow.keras.layers import Conv2D, BatchNormalization, Dense, Activation, GlobalAvgPool2D\n",
        "from tensorflow.keras.callbacks import EarlyStopping, ModelCheckpoint\n",
        "\n",
        "# 기본적으로 CIFAR-10을 사용해 구현\n",
        "from keras.datasets import cifar10\n",
        "# DenseNet과 스코어 점수를 비교하기위한 MNIST 데이터셋\n",
        "from keras.datasets import mnist\n",
        "from keras.utils.np_utils import to_categorical"
      ]
    },
    {
      "cell_type": "code",
      "source": [
        "class PlainBlock(keras.layers.Layer):\n",
        "  def __init__(self, filters, strides = 1, activation = 'relu', **kwargs):\n",
        "    # 이 블록을 객체화 할때 내가 지정해준 매개변수 이외의 것을 지정해주면\n",
        "    # 부모 클래스 keras.layers.Layer 이곳으로 그 매개변수를 전달함\n",
        "    super().__init__(**kwargs)\n",
        "\n",
        "    # get_config를 위해 변수 초기화\n",
        "    self.filters = filters\n",
        "    self.strides = strides\n",
        "    self.activation = keras.activations.get(activation)\n",
        "\n",
        "    self.main_layers = [\n",
        "        # 커널의 사이즈는 3x3으로 고정 \n",
        "        # strides는 풀링을 대체해 2로 받아야 할 때도 있기 때문에 변수로 받고\n",
        "        # 입출력의 사이즈를 동일하게 해주기 위해 패딩은 same으로\n",
        "        # 컨볼루션을 진행 할때마다 배치 정규화와 Relu 함수를 통과해 진행\n",
        "        # bias는 BN을 진행하면서 bias를 더해주기 때문에 Conv2d안에서는 False로 지정\n",
        "        keras.layers.Conv2D(filters, kernel_size=3, strides = strides, padding='same', use_bias=False),\n",
        "        keras.layers.BatchNormalization(),\n",
        "        self.activation,\n",
        "        keras.layers.Conv2D(filters, 3, strides=1, padding='same', use_bias=False),\n",
        "        keras.layers.BatchNormalization(),\n",
        "    ]\n",
        "\n",
        "  # ModelCheckpoint를 사용하기위해 각 변수를 딕셔너리로 반환\n",
        "  def get_config(self):\n",
        "    config = super().get_config()\n",
        "    config.update({\n",
        "        \"filters\": self.filters,\n",
        "        \"strides\": self.strides,\n",
        "        \"activation\": self.activation\n",
        "    })\n",
        "    return config\n",
        "  \n",
        "  # 실제로 레이어가 어떻게 구동이 되는지 정해주는 call 선언\n",
        "  # add로 객체화가 되면 이 call함수가 호출\n",
        "  def call(self, input):\n",
        "    x = input\n",
        "    for layer in self.main_layers:\n",
        "      x = layer(x)\n",
        "    return self.activation(x)"
      ],
      "metadata": {
        "id": "_1arqD3UQJUk"
      },
      "execution_count": 2,
      "outputs": []
    },
    {
      "cell_type": "code",
      "source": [
        "class ResBlock(keras.layers.Layer):\n",
        "  def __init__(self, filters, strides = 1, activation = 'relu', **kwargs):\n",
        "    # 이 블록을 객체화 할때 내가 지정해준 매개변수 이외의 것을 지정해주면\n",
        "    # 부모 클래스 keras.layers.Layer 이곳으로 그 매개변수를 전달함\n",
        "    super().__init__(**kwargs)\n",
        "\n",
        "    # get_config를 위해 변수 초기화\n",
        "    self.filters = filters\n",
        "    self.strides = strides\n",
        "    self.activation = keras.activations.get(activation)\n",
        "\n",
        "    self.main_layers = [\n",
        "        # 커널의 사이즈는 3x3으로 고정 \n",
        "        # strides는 풀링을 대체해 2로 받아야 할 때도 있기 때문에 변수로 받고\n",
        "        # 입출력의 사이즈를 동일하게 해주기 위해 패딩은 same으로\n",
        "        # 컨볼루션을 진행 할때마다 배치 정규화와 Relu 함수를 통과해 진행\n",
        "        # bias는 BN을 진행하면서 bias를 더해주기 때문에 Conv2d안에서는 False로 지정\n",
        "        keras.layers.Conv2D(filters, kernel_size=3, strides = strides, padding='same', use_bias=False),\n",
        "        keras.layers.BatchNormalization(),\n",
        "        self.activation,\n",
        "        keras.layers.Conv2D(filters, 3, strides=1, padding='same', use_bias=False),\n",
        "        keras.layers.BatchNormalization(),\n",
        "    ]\n",
        "    self.skip_layers = []\n",
        "    if strides != 1:\n",
        "      self.skip_layers = [\n",
        "          keras.layers.Conv2D(filters, 1, strides=strides, padding='same', use_bias=False),\n",
        "          keras.layers.BatchNormalization()\n",
        "      ]\n",
        "  # ModelCheckpoint를 사용하기위해 각 변수를 딕셔너리로 반환\n",
        "  def get_config(self):\n",
        "    config = super().get_config()\n",
        "    config.update({\n",
        "        \"filters\": self.filters,\n",
        "        \"strides\": self.strides,\n",
        "        \"activation\": self.activation\n",
        "    })\n",
        "    return config\n",
        "\n",
        "  # 실제로 레이어가 어떻게 구동이 되는지 정해주는 call 선언\n",
        "  # 이곳에서 인풋을 더해주는 작업을 통해 PlainBlock과의 점수 비교\n",
        "  # add로 객체화가 되면 이 call함수가 호출\n",
        "  def call(self, input):\n",
        "    x = input\n",
        "    for layer in self.main_layers:\n",
        "      x = layer(x)\n",
        "    skip_x = input\n",
        "    for layer in self.skip_layers:\n",
        "      skip_x = layer(skip_x)\n",
        "    return self.activation(x + skip_x)"
      ],
      "metadata": {
        "id": "9OCYVwt-r8c5"
      },
      "execution_count": 3,
      "outputs": []
    },
    {
      "cell_type": "code",
      "source": [
        "# class ResNet(keras.layers.Layer):\n",
        "#   def __init__(self, block, num_blocks, **kwargs):\n",
        "#     super().__init__(**kwargs)\n",
        "#     self.prev_filters = 16\n",
        "#     self.activation = keras.activations.get('softmax')\n",
        "\n",
        "#     self.all_layers=[\n",
        "#         keras.layers.Conv2D(16, 3, input_shape=(32, 32, 3), padding='same', use_bias=False),\n",
        "#         keras.layers.BatchNormalization(),\n",
        "#         self._make_layer(block, 16, num_blocks[0], stride=1),\n",
        "#         self._make_layer(block, 32, num_blocks[1], stride=1),\n",
        "#         self._make_layer(block, 64, num_blocks[2], stride=1),\n",
        "#         keras.layers.GlobalAvgPool2D(),\n",
        "#         keras.layers.Dense(10),\n",
        "#     ]\n",
        "\n",
        "#   def _make_layer(self, block, filters, num_blocks, stride):\n",
        "#     strides = [stride] + [1] * (num_blocks - 1)\n",
        "#     layers = []\n",
        "#     for stride in strides:\n",
        "#       layers.append(block(filters, stride))\n",
        "#       self.prev_filters = filters # 다음 레이어를 위해 채널 수 변경\n",
        "#     return layers\n",
        "  \n",
        "#   def call(self, input):\n",
        "#     x = input\n",
        "#     for layer in self.all_layers:\n",
        "#       x = layer(x)\n",
        "\n",
        "#     return self.activation(x)\n",
        "  "
      ],
      "metadata": {
        "id": "RRKA8wxYmBMz"
      },
      "execution_count": null,
      "outputs": []
    },
    {
      "cell_type": "markdown",
      "source": [
        "# CIFAR-10 Dataset"
      ],
      "metadata": {
        "id": "kFF-csRKFNAI"
      }
    },
    {
      "cell_type": "code",
      "source": [
        "(X_train, y_train), (X_test, y_test) = cifar10.load_data()"
      ],
      "metadata": {
        "id": "cEdhzA4HyP9F",
        "colab": {
          "base_uri": "https://localhost:8080/"
        },
        "outputId": "47b462c7-08d5-4da8-cfaa-2233d6ca7e37"
      },
      "execution_count": 4,
      "outputs": [
        {
          "output_type": "stream",
          "name": "stdout",
          "text": [
            "Downloading data from https://www.cs.toronto.edu/~kriz/cifar-10-python.tar.gz\n",
            "170500096/170498071 [==============================] - 4s 0us/step\n",
            "170508288/170498071 [==============================] - 4s 0us/step\n"
          ]
        }
      ]
    },
    {
      "cell_type": "code",
      "source": [
        "# 데이터의 기본 타깃값은 0~9로 설정되어있음\n",
        "# 논문에선 레이어의 마지막에 분류하고 싶은 클래스의 수만큼\n",
        "# 카테고리 분류를 해주기 때문에 원핫 인코딩이 필요\n",
        "y_test"
      ],
      "metadata": {
        "colab": {
          "base_uri": "https://localhost:8080/"
        },
        "id": "gHqaNGib5ZNH",
        "outputId": "f8d1ab9a-fccb-465a-e5e5-fc607d3ef8ed"
      },
      "execution_count": 5,
      "outputs": [
        {
          "output_type": "execute_result",
          "data": {
            "text/plain": [
              "array([[3],\n",
              "       [8],\n",
              "       [8],\n",
              "       ...,\n",
              "       [5],\n",
              "       [1],\n",
              "       [7]], dtype=uint8)"
            ]
          },
          "metadata": {},
          "execution_count": 5
        }
      ]
    },
    {
      "cell_type": "code",
      "source": [
        "# 원핫 인코딩 진행\n",
        "import sklearn.preprocessing\n",
        "\n",
        "label_binarizer = sklearn.preprocessing.LabelBinarizer()\n",
        "label_binarizer.fit(range((max(y_train)+1)[0]))\n",
        "y_train = label_binarizer.transform(y_train)\n",
        "label_binarizer.fit(range((max(y_test)+1)[0]))\n",
        "y_test = label_binarizer.transform(y_test)\n",
        "print(y_train.shape)\n",
        "print(y_test.shape)"
      ],
      "metadata": {
        "colab": {
          "base_uri": "https://localhost:8080/"
        },
        "id": "qC1sDH-85YPe",
        "outputId": "8172e24b-b120-471e-91ac-7c58228124f2"
      },
      "execution_count": 6,
      "outputs": [
        {
          "output_type": "stream",
          "name": "stdout",
          "text": [
            "(50000, 10)\n",
            "(10000, 10)\n"
          ]
        }
      ]
    },
    {
      "cell_type": "code",
      "source": [
        "# 원핫 인코딩 완료\n",
        "y_test"
      ],
      "metadata": {
        "colab": {
          "base_uri": "https://localhost:8080/"
        },
        "id": "8rSidVh24uC9",
        "outputId": "8607877e-7b75-4f3c-a204-4e8a0db56b9a"
      },
      "execution_count": 7,
      "outputs": [
        {
          "output_type": "execute_result",
          "data": {
            "text/plain": [
              "array([[0, 0, 0, ..., 0, 0, 0],\n",
              "       [0, 0, 0, ..., 0, 1, 0],\n",
              "       [0, 0, 0, ..., 0, 1, 0],\n",
              "       ...,\n",
              "       [0, 0, 0, ..., 0, 0, 0],\n",
              "       [0, 1, 0, ..., 0, 0, 0],\n",
              "       [0, 0, 0, ..., 1, 0, 0]])"
            ]
          },
          "metadata": {},
          "execution_count": 7
        }
      ]
    },
    {
      "cell_type": "markdown",
      "source": [
        "# PlainBlock-14layers"
      ],
      "metadata": {
        "id": "w8fxyHBixkyJ"
      }
    },
    {
      "cell_type": "code",
      "source": [
        "model1 = Sequential()\n",
        "model1.add(Conv2D(16, 3, input_shape=(32, 32, 3), padding='same', use_bias=False))\n",
        "model1.add(BatchNormalization())\n",
        "prev_filters = 16\n",
        "# 채널수를 16, 32, 64 로 증가\n",
        "for filters in [16]*2+[32]*2+[64]*2:\n",
        "  if filters == prev_filters:\n",
        "    strides = 1\n",
        "  else:\n",
        "    strides = 2\n",
        "  model1.add(PlainBlock(filters, strides=strides, activation = 'relu'))\n",
        "  prev_filters = filters\n",
        "\n",
        "model1.add(GlobalAvgPool2D())\n",
        "model1.add(Dense(10, activation='softmax'))\n",
        "model1.summary()"
      ],
      "metadata": {
        "colab": {
          "base_uri": "https://localhost:8080/"
        },
        "id": "uFjnOzAPxo6g",
        "outputId": "b33680fa-1a17-44fe-9dfe-0b87434498ce"
      },
      "execution_count": 8,
      "outputs": [
        {
          "output_type": "stream",
          "name": "stdout",
          "text": [
            "Model: \"sequential\"\n",
            "_________________________________________________________________\n",
            " Layer (type)                Output Shape              Param #   \n",
            "=================================================================\n",
            " conv2d (Conv2D)             (None, 32, 32, 16)        432       \n",
            "                                                                 \n",
            " batch_normalization (BatchN  (None, 32, 32, 16)       64        \n",
            " ormalization)                                                   \n",
            "                                                                 \n",
            " plain_block (PlainBlock)    (None, 32, 32, 16)        4736      \n",
            "                                                                 \n",
            " plain_block_1 (PlainBlock)  (None, 32, 32, 16)        4736      \n",
            "                                                                 \n",
            " plain_block_2 (PlainBlock)  (None, 16, 16, 32)        14080     \n",
            "                                                                 \n",
            " plain_block_3 (PlainBlock)  (None, 16, 16, 32)        18688     \n",
            "                                                                 \n",
            " plain_block_4 (PlainBlock)  (None, 8, 8, 64)          55808     \n",
            "                                                                 \n",
            " plain_block_5 (PlainBlock)  (None, 8, 8, 64)          74240     \n",
            "                                                                 \n",
            " global_average_pooling2d (G  (None, 64)               0         \n",
            " lobalAveragePooling2D)                                          \n",
            "                                                                 \n",
            " dense (Dense)               (None, 10)                650       \n",
            "                                                                 \n",
            "=================================================================\n",
            "Total params: 173,434\n",
            "Trainable params: 172,506\n",
            "Non-trainable params: 928\n",
            "_________________________________________________________________\n"
          ]
        }
      ]
    },
    {
      "cell_type": "code",
      "source": [
        "# optimizer를 SGD에 learning_rate를 0.01, momentum을 0.9로 지정\n",
        "model1.compile(optimizer = optimizers.SGD(learning_rate=0.01, momentum=0.9), loss='categorical_crossentropy', metrics = ['accuracy'])\n",
        "\n",
        "# EarlyStopping 의 patience를 20으로 설정해주엇기 때문에 사실상 기능을 꺼둔 상태\n",
        "early_stopping_callback = EarlyStopping(monitor='val_loss',patience=20)\n",
        "plane14_path = 'Plane14.hdf5'\n",
        "checkpointer = ModelCheckpoint(filepath = plane14_path, monitor='val_loss', verbose=0, save_best_only=True)"
      ],
      "metadata": {
        "id": "IVFRVKjsyt8f"
      },
      "execution_count": 9,
      "outputs": []
    },
    {
      "cell_type": "code",
      "source": [
        "histroy = model1.fit(X_train, y_train, validation_split = 0.25, epochs = 20, batch_size = 128, callbacks=[early_stopping_callback, checkpointer])"
      ],
      "metadata": {
        "colab": {
          "base_uri": "https://localhost:8080/"
        },
        "id": "4Rq1m_8cyw61",
        "outputId": "bfffe571-f898-425a-d8a0-0176fbdeaffe"
      },
      "execution_count": 10,
      "outputs": [
        {
          "output_type": "stream",
          "name": "stdout",
          "text": [
            "Epoch 1/20\n",
            "293/293 [==============================] - 18s 23ms/step - loss: 1.6487 - accuracy: 0.3883 - val_loss: 1.5672 - val_accuracy: 0.4222\n",
            "Epoch 2/20\n",
            "293/293 [==============================] - 6s 19ms/step - loss: 1.2016 - accuracy: 0.5657 - val_loss: 2.5011 - val_accuracy: 0.2668\n",
            "Epoch 3/20\n",
            "293/293 [==============================] - 6s 19ms/step - loss: 0.9961 - accuracy: 0.6436 - val_loss: 1.2838 - val_accuracy: 0.5526\n",
            "Epoch 4/20\n",
            "293/293 [==============================] - 6s 19ms/step - loss: 0.8694 - accuracy: 0.6925 - val_loss: 1.1226 - val_accuracy: 0.5991\n",
            "Epoch 5/20\n",
            "293/293 [==============================] - 6s 20ms/step - loss: 0.7813 - accuracy: 0.7234 - val_loss: 1.6012 - val_accuracy: 0.5594\n",
            "Epoch 6/20\n",
            "293/293 [==============================] - 6s 20ms/step - loss: 0.6933 - accuracy: 0.7581 - val_loss: 0.9580 - val_accuracy: 0.6701\n",
            "Epoch 7/20\n",
            "293/293 [==============================] - 6s 20ms/step - loss: 0.6371 - accuracy: 0.7770 - val_loss: 0.7937 - val_accuracy: 0.7288\n",
            "Epoch 8/20\n",
            "293/293 [==============================] - 6s 20ms/step - loss: 0.5863 - accuracy: 0.7945 - val_loss: 1.1046 - val_accuracy: 0.6536\n",
            "Epoch 9/20\n",
            "293/293 [==============================] - 6s 19ms/step - loss: 0.5390 - accuracy: 0.8116 - val_loss: 1.1281 - val_accuracy: 0.6522\n",
            "Epoch 10/20\n",
            "293/293 [==============================] - 6s 20ms/step - loss: 0.5024 - accuracy: 0.8231 - val_loss: 0.8506 - val_accuracy: 0.7136\n",
            "Epoch 11/20\n",
            "293/293 [==============================] - 6s 20ms/step - loss: 0.4588 - accuracy: 0.8387 - val_loss: 0.9570 - val_accuracy: 0.7034\n",
            "Epoch 12/20\n",
            "293/293 [==============================] - 6s 19ms/step - loss: 0.4263 - accuracy: 0.8496 - val_loss: 0.9910 - val_accuracy: 0.6917\n",
            "Epoch 13/20\n",
            "293/293 [==============================] - 6s 19ms/step - loss: 0.3893 - accuracy: 0.8644 - val_loss: 1.4428 - val_accuracy: 0.6246\n",
            "Epoch 14/20\n",
            "293/293 [==============================] - 6s 20ms/step - loss: 0.3572 - accuracy: 0.8756 - val_loss: 1.0960 - val_accuracy: 0.6886\n",
            "Epoch 15/20\n",
            "293/293 [==============================] - 6s 20ms/step - loss: 0.3249 - accuracy: 0.8870 - val_loss: 0.9303 - val_accuracy: 0.7082\n",
            "Epoch 16/20\n",
            "293/293 [==============================] - 6s 19ms/step - loss: 0.2992 - accuracy: 0.8963 - val_loss: 1.0822 - val_accuracy: 0.6930\n",
            "Epoch 17/20\n",
            "293/293 [==============================] - 6s 20ms/step - loss: 0.2731 - accuracy: 0.9052 - val_loss: 1.0415 - val_accuracy: 0.7107\n",
            "Epoch 18/20\n",
            "293/293 [==============================] - 6s 19ms/step - loss: 0.2474 - accuracy: 0.9138 - val_loss: 1.1856 - val_accuracy: 0.7054\n",
            "Epoch 19/20\n",
            "293/293 [==============================] - 6s 19ms/step - loss: 0.2314 - accuracy: 0.9182 - val_loss: 1.2687 - val_accuracy: 0.6809\n",
            "Epoch 20/20\n",
            "293/293 [==============================] - 6s 19ms/step - loss: 0.2091 - accuracy: 0.9271 - val_loss: 1.0266 - val_accuracy: 0.7358\n"
          ]
        }
      ]
    },
    {
      "cell_type": "code",
      "source": [
        "model1.load_weights(plane14_path)\n",
        "model1.evaluate(X_test, y_test)[1]"
      ],
      "metadata": {
        "colab": {
          "base_uri": "https://localhost:8080/"
        },
        "id": "2B2hUlJ5y7zf",
        "outputId": "57b532e1-21ac-4de0-caf6-d85f82f79214"
      },
      "execution_count": 11,
      "outputs": [
        {
          "output_type": "stream",
          "name": "stdout",
          "text": [
            "313/313 [==============================] - 1s 4ms/step - loss: 0.8092 - accuracy: 0.7192\n"
          ]
        },
        {
          "output_type": "execute_result",
          "data": {
            "text/plain": [
              "0.7192000150680542"
            ]
          },
          "metadata": {},
          "execution_count": 11
        }
      ]
    },
    {
      "cell_type": "markdown",
      "source": [
        "# ResBlock-14layers"
      ],
      "metadata": {
        "id": "HUdWKNsmRd3I"
      }
    },
    {
      "cell_type": "code",
      "source": [
        "model2 = Sequential()\n",
        "model2.add(Conv2D(16, 3, input_shape=(32, 32, 3), padding='same', use_bias=False))\n",
        "model2.add(BatchNormalization())\n",
        "prev_filters = 16\n",
        "# 채널수를 16, 32, 64 로 증가\n",
        "for filters in [16]*2+[32]*2+[64]*2:\n",
        "  if filters == prev_filters:\n",
        "    strides = 1\n",
        "  else:\n",
        "    strides = 2\n",
        "  model2.add(ResBlock(filters, strides=strides))\n",
        "  prev_filters = filters\n",
        "model2.add(GlobalAvgPool2D())\n",
        "model2.add(Dense(10, activation='softmax'))\n",
        "model2.summary()"
      ],
      "metadata": {
        "colab": {
          "base_uri": "https://localhost:8080/"
        },
        "id": "L4d4xCVBr__j",
        "outputId": "7d05a2df-f267-49c1-a446-e62429fd9cb5"
      },
      "execution_count": null,
      "outputs": [
        {
          "output_type": "stream",
          "name": "stdout",
          "text": [
            "Model: \"sequential_3\"\n",
            "_________________________________________________________________\n",
            " Layer (type)                Output Shape              Param #   \n",
            "=================================================================\n",
            " conv2d_63 (Conv2D)          (None, 32, 32, 16)        432       \n",
            "                                                                 \n",
            " batch_normalization_63 (Bat  (None, 32, 32, 16)       64        \n",
            " chNormalization)                                                \n",
            "                                                                 \n",
            " res_block (ResBlock)        (None, 32, 32, 16)        4736      \n",
            "                                                                 \n",
            " res_block_1 (ResBlock)      (None, 32, 32, 16)        4736      \n",
            "                                                                 \n",
            " res_block_2 (ResBlock)      (None, 16, 16, 32)        14720     \n",
            "                                                                 \n",
            " res_block_3 (ResBlock)      (None, 16, 16, 32)        18688     \n",
            "                                                                 \n",
            " res_block_4 (ResBlock)      (None, 8, 8, 64)          58112     \n",
            "                                                                 \n",
            " res_block_5 (ResBlock)      (None, 8, 8, 64)          74240     \n",
            "                                                                 \n",
            " global_average_pooling2d_3   (None, 64)               0         \n",
            " (GlobalAveragePooling2D)                                        \n",
            "                                                                 \n",
            " dense_3 (Dense)             (None, 10)                650       \n",
            "                                                                 \n",
            "=================================================================\n",
            "Total params: 176,378\n",
            "Trainable params: 175,258\n",
            "Non-trainable params: 1,120\n",
            "_________________________________________________________________\n"
          ]
        }
      ]
    },
    {
      "cell_type": "code",
      "source": [
        "model2.compile(optimizer = optimizers.SGD(learning_rate=0.01, momentum=0.9), loss='categorical_crossentropy', metrics = ['accuracy'])\n",
        "early_stopping_callback = EarlyStopping(monitor='val_loss',patience=20)\n",
        "res14_path = 'Res14.hdf5'\n",
        "checkpointer = ModelCheckpoint(filepath = res14_path, monitor='val_loss', verbose=0, save_best_only=True)"
      ],
      "metadata": {
        "id": "yYOyb73A4QVc"
      },
      "execution_count": null,
      "outputs": []
    },
    {
      "cell_type": "code",
      "source": [
        "model2.fit(X_train, y_train, validation_split = 0.25, epochs = 20, batch_size = 128, callbacks=[early_stopping_callback, checkpointer])"
      ],
      "metadata": {
        "colab": {
          "base_uri": "https://localhost:8080/"
        },
        "id": "DGhq2q2M4VVM",
        "outputId": "4f285508-fff9-42f9-96a9-fb6e9735daad"
      },
      "execution_count": null,
      "outputs": [
        {
          "output_type": "stream",
          "name": "stdout",
          "text": [
            "Epoch 1/20\n",
            "293/293 [==============================] - 8s 23ms/step - loss: 1.5513 - accuracy: 0.4296 - val_loss: 2.3173 - val_accuracy: 0.3036\n",
            "Epoch 2/20\n",
            "293/293 [==============================] - 6s 22ms/step - loss: 1.1462 - accuracy: 0.5829 - val_loss: 1.3266 - val_accuracy: 0.5332\n",
            "Epoch 3/20\n",
            "293/293 [==============================] - 6s 22ms/step - loss: 0.9743 - accuracy: 0.6493 - val_loss: 1.2996 - val_accuracy: 0.5658\n",
            "Epoch 4/20\n",
            "293/293 [==============================] - 6s 22ms/step - loss: 0.8589 - accuracy: 0.6950 - val_loss: 1.2422 - val_accuracy: 0.5751\n",
            "Epoch 5/20\n",
            "293/293 [==============================] - 6s 22ms/step - loss: 0.7708 - accuracy: 0.7263 - val_loss: 1.4514 - val_accuracy: 0.5562\n",
            "Epoch 6/20\n",
            "293/293 [==============================] - 6s 22ms/step - loss: 0.6980 - accuracy: 0.7523 - val_loss: 1.0953 - val_accuracy: 0.6280\n",
            "Epoch 7/20\n",
            "293/293 [==============================] - 6s 22ms/step - loss: 0.6368 - accuracy: 0.7744 - val_loss: 1.1243 - val_accuracy: 0.6376\n",
            "Epoch 8/20\n",
            "293/293 [==============================] - 7s 22ms/step - loss: 0.5846 - accuracy: 0.7924 - val_loss: 1.1381 - val_accuracy: 0.6370\n",
            "Epoch 9/20\n",
            "293/293 [==============================] - 6s 22ms/step - loss: 0.5335 - accuracy: 0.8114 - val_loss: 1.1458 - val_accuracy: 0.6450\n",
            "Epoch 10/20\n",
            "293/293 [==============================] - 6s 22ms/step - loss: 0.4927 - accuracy: 0.8257 - val_loss: 1.2165 - val_accuracy: 0.6359\n",
            "Epoch 11/20\n",
            "293/293 [==============================] - 6s 22ms/step - loss: 0.4390 - accuracy: 0.8460 - val_loss: 1.0375 - val_accuracy: 0.6902\n",
            "Epoch 12/20\n",
            "293/293 [==============================] - 6s 21ms/step - loss: 0.4051 - accuracy: 0.8577 - val_loss: 1.4133 - val_accuracy: 0.6046\n",
            "Epoch 13/20\n",
            "293/293 [==============================] - 6s 22ms/step - loss: 0.3687 - accuracy: 0.8710 - val_loss: 0.9816 - val_accuracy: 0.7089\n",
            "Epoch 14/20\n",
            "293/293 [==============================] - 6s 22ms/step - loss: 0.3302 - accuracy: 0.8852 - val_loss: 0.9316 - val_accuracy: 0.7211\n",
            "Epoch 15/20\n",
            "293/293 [==============================] - 6s 22ms/step - loss: 0.3009 - accuracy: 0.8941 - val_loss: 1.1624 - val_accuracy: 0.6766\n",
            "Epoch 16/20\n",
            "293/293 [==============================] - 6s 21ms/step - loss: 0.2697 - accuracy: 0.9058 - val_loss: 1.1025 - val_accuracy: 0.6922\n",
            "Epoch 17/20\n",
            "293/293 [==============================] - 6s 22ms/step - loss: 0.2324 - accuracy: 0.9202 - val_loss: 1.1016 - val_accuracy: 0.7063\n",
            "Epoch 18/20\n",
            "293/293 [==============================] - 6s 22ms/step - loss: 0.2116 - accuracy: 0.9279 - val_loss: 1.1340 - val_accuracy: 0.7083\n",
            "Epoch 19/20\n",
            "293/293 [==============================] - 6s 22ms/step - loss: 0.1930 - accuracy: 0.9337 - val_loss: 1.3952 - val_accuracy: 0.6645\n",
            "Epoch 20/20\n",
            "293/293 [==============================] - 6s 22ms/step - loss: 0.1748 - accuracy: 0.9393 - val_loss: 1.2209 - val_accuracy: 0.7254\n"
          ]
        },
        {
          "output_type": "execute_result",
          "data": {
            "text/plain": [
              "<keras.callbacks.History at 0x7f7fb9f1c490>"
            ]
          },
          "metadata": {},
          "execution_count": 27
        }
      ]
    },
    {
      "cell_type": "code",
      "source": [
        "model2.load_weights(res14_path)\n",
        "model2.evaluate(X_test, y_test)[1]"
      ],
      "metadata": {
        "colab": {
          "base_uri": "https://localhost:8080/"
        },
        "id": "XQUfBE7O4XDc",
        "outputId": "863fd35e-2669-4dce-a091-862f13187b92"
      },
      "execution_count": null,
      "outputs": [
        {
          "output_type": "stream",
          "name": "stdout",
          "text": [
            "313/313 [==============================] - 2s 5ms/step - loss: 0.9728 - accuracy: 0.7095\n"
          ]
        },
        {
          "output_type": "execute_result",
          "data": {
            "text/plain": [
              "0.7095000147819519"
            ]
          },
          "metadata": {},
          "execution_count": 29
        }
      ]
    },
    {
      "cell_type": "markdown",
      "source": [
        "# PlainBlock-18layers"
      ],
      "metadata": {
        "id": "wjDIKxxYuAdA"
      }
    },
    {
      "cell_type": "code",
      "source": [
        "model3 = Sequential()\n",
        "model3.add(Conv2D(64, 3, input_shape=(32, 32, 3), padding='same', use_bias=False))\n",
        "model3.add(BatchNormalization())\n",
        "prev_filters = 64\n",
        "# 채널수를 64, 128, 256, 512 로 증가\n",
        "for filters in [64]*2+[128]*2+[256]*2+[512]*2:\n",
        "  if filters == prev_filters:\n",
        "    strides = 1\n",
        "  else:\n",
        "    strides = 2\n",
        "  model3.add(PlainBlock(filters, strides=strides))\n",
        "  prev_filters = filters\n",
        "\n",
        "model3.add(GlobalAvgPool2D())\n",
        "model3.add(Dense(10, activation='softmax'))\n",
        "model3.summary()"
      ],
      "metadata": {
        "id": "pw-4U2aHuEQ4",
        "colab": {
          "base_uri": "https://localhost:8080/"
        },
        "outputId": "06e4ba37-6ffe-4d3a-fd3b-1214fb7c7c03"
      },
      "execution_count": null,
      "outputs": [
        {
          "output_type": "stream",
          "name": "stdout",
          "text": [
            "Model: \"sequential_1\"\n",
            "_________________________________________________________________\n",
            " Layer (type)                Output Shape              Param #   \n",
            "=================================================================\n",
            " conv2d_13 (Conv2D)          (None, 32, 32, 64)        1728      \n",
            "                                                                 \n",
            " batch_normalization_13 (Bat  (None, 32, 32, 64)       256       \n",
            " chNormalization)                                                \n",
            "                                                                 \n",
            " plane_block_6 (PlaneBlock)  (None, 32, 32, 64)        74240     \n",
            "                                                                 \n",
            " plane_block_7 (PlaneBlock)  (None, 32, 32, 64)        74240     \n",
            "                                                                 \n",
            " plane_block_8 (PlaneBlock)  (None, 16, 16, 128)       222208    \n",
            "                                                                 \n",
            " plane_block_9 (PlaneBlock)  (None, 16, 16, 128)       295936    \n",
            "                                                                 \n",
            " plane_block_10 (PlaneBlock)  (None, 8, 8, 256)        886784    \n",
            "                                                                 \n",
            " plane_block_11 (PlaneBlock)  (None, 8, 8, 256)        1181696   \n",
            "                                                                 \n",
            " plane_block_12 (PlaneBlock)  (None, 4, 4, 512)        3543040   \n",
            "                                                                 \n",
            " plane_block_13 (PlaneBlock)  (None, 4, 4, 512)        4722688   \n",
            "                                                                 \n",
            " global_average_pooling2d_1   (None, 512)              0         \n",
            " (GlobalAveragePooling2D)                                        \n",
            "                                                                 \n",
            " dense_1 (Dense)             (None, 10)                5130      \n",
            "                                                                 \n",
            "=================================================================\n",
            "Total params: 11,007,946\n",
            "Trainable params: 11,000,138\n",
            "Non-trainable params: 7,808\n",
            "_________________________________________________________________\n"
          ]
        }
      ]
    },
    {
      "cell_type": "code",
      "source": [
        "model3.compile(optimizer = optimizers.SGD(learning_rate=0.01, momentum=0.9), loss='categorical_crossentropy', metrics = ['accuracy'])\n",
        "early_stopping_callback = EarlyStopping(monitor='val_loss',patience=20)\n",
        "Plain18_path = 'Plain18.hdf5'\n",
        "checkpointer = ModelCheckpoint(filepath = Plain18_path, monitor='val_loss', verbose=0, save_best_only=True)"
      ],
      "metadata": {
        "id": "je0m72EeFtbx"
      },
      "execution_count": null,
      "outputs": []
    },
    {
      "cell_type": "code",
      "source": [
        "model3.fit(X_train, y_train, validation_split = 0.25, epochs = 20, batch_size = 128, callbacks=[early_stopping_callback, checkpointer])"
      ],
      "metadata": {
        "colab": {
          "base_uri": "https://localhost:8080/"
        },
        "id": "AGc19oOXFxF4",
        "outputId": "73e9fc5b-3e3e-4f57-f67d-b8c7b98e0e5f"
      },
      "execution_count": null,
      "outputs": [
        {
          "output_type": "stream",
          "name": "stdout",
          "text": [
            "Epoch 1/20\n",
            "293/293 [==============================] - 33s 113ms/step - loss: 1.4304 - accuracy: 0.4801 - val_loss: 1.8097 - val_accuracy: 0.4092\n",
            "Epoch 2/20\n",
            "293/293 [==============================] - 32s 108ms/step - loss: 0.9543 - accuracy: 0.6595 - val_loss: 1.2093 - val_accuracy: 0.5593\n",
            "Epoch 3/20\n",
            "293/293 [==============================] - 31s 106ms/step - loss: 0.6897 - accuracy: 0.7582 - val_loss: 0.9747 - val_accuracy: 0.6746\n",
            "Epoch 4/20\n",
            "293/293 [==============================] - 31s 106ms/step - loss: 0.4991 - accuracy: 0.8260 - val_loss: 0.8851 - val_accuracy: 0.7144\n",
            "Epoch 5/20\n",
            "293/293 [==============================] - 31s 106ms/step - loss: 0.3448 - accuracy: 0.8797 - val_loss: 1.3003 - val_accuracy: 0.6347\n",
            "Epoch 6/20\n",
            "293/293 [==============================] - 31s 105ms/step - loss: 0.2431 - accuracy: 0.9163 - val_loss: 1.1744 - val_accuracy: 0.6910\n",
            "Epoch 7/20\n",
            "293/293 [==============================] - 31s 106ms/step - loss: 0.1572 - accuracy: 0.9467 - val_loss: 0.9808 - val_accuracy: 0.7341\n",
            "Epoch 8/20\n",
            "293/293 [==============================] - 31s 106ms/step - loss: 0.1086 - accuracy: 0.9626 - val_loss: 1.3172 - val_accuracy: 0.7091\n",
            "Epoch 9/20\n",
            "293/293 [==============================] - 31s 105ms/step - loss: 0.0591 - accuracy: 0.9809 - val_loss: 1.4085 - val_accuracy: 0.7199\n",
            "Epoch 10/20\n",
            "293/293 [==============================] - 31s 106ms/step - loss: 0.0504 - accuracy: 0.9830 - val_loss: 1.0505 - val_accuracy: 0.7615\n",
            "Epoch 11/20\n",
            "293/293 [==============================] - 31s 105ms/step - loss: 0.0369 - accuracy: 0.9877 - val_loss: 1.1052 - val_accuracy: 0.7625\n",
            "Epoch 12/20\n",
            "293/293 [==============================] - 31s 105ms/step - loss: 0.0223 - accuracy: 0.9932 - val_loss: 1.0926 - val_accuracy: 0.7663\n",
            "Epoch 13/20\n",
            "293/293 [==============================] - 33s 114ms/step - loss: 0.0267 - accuracy: 0.9915 - val_loss: 1.2864 - val_accuracy: 0.7443\n",
            "Epoch 14/20\n",
            "293/293 [==============================] - 31s 106ms/step - loss: 0.0249 - accuracy: 0.9922 - val_loss: 1.4216 - val_accuracy: 0.7302\n",
            "Epoch 15/20\n",
            "293/293 [==============================] - 33s 114ms/step - loss: 0.0171 - accuracy: 0.9951 - val_loss: 1.0185 - val_accuracy: 0.7844\n",
            "Epoch 16/20\n",
            "293/293 [==============================] - 31s 106ms/step - loss: 0.0126 - accuracy: 0.9962 - val_loss: 1.2349 - val_accuracy: 0.7508\n",
            "Epoch 17/20\n",
            "293/293 [==============================] - 34s 114ms/step - loss: 0.0100 - accuracy: 0.9975 - val_loss: 1.0161 - val_accuracy: 0.7905\n",
            "Epoch 18/20\n",
            "293/293 [==============================] - 31s 106ms/step - loss: 0.0072 - accuracy: 0.9982 - val_loss: 1.0271 - val_accuracy: 0.7985\n",
            "Epoch 19/20\n",
            "293/293 [==============================] - 31s 106ms/step - loss: 0.0012 - accuracy: 1.0000 - val_loss: 0.9376 - val_accuracy: 0.8166\n",
            "Epoch 20/20\n",
            "293/293 [==============================] - 31s 106ms/step - loss: 3.8923e-04 - accuracy: 1.0000 - val_loss: 0.9255 - val_accuracy: 0.8161\n"
          ]
        },
        {
          "output_type": "execute_result",
          "data": {
            "text/plain": [
              "<keras.callbacks.History at 0x7f80443c1710>"
            ]
          },
          "metadata": {},
          "execution_count": 17
        }
      ]
    },
    {
      "cell_type": "code",
      "source": [
        "model3.load_weights(Plain18_path)\n",
        "model3.evaluate(X_test, y_test)[1]"
      ],
      "metadata": {
        "colab": {
          "base_uri": "https://localhost:8080/"
        },
        "id": "xrp10giUJyOv",
        "outputId": "2e92809d-5dee-4c3f-af90-aff8922df05f"
      },
      "execution_count": null,
      "outputs": [
        {
          "output_type": "stream",
          "name": "stdout",
          "text": [
            "313/313 [==============================] - 4s 11ms/step - loss: 0.9155 - accuracy: 0.7069\n"
          ]
        },
        {
          "output_type": "execute_result",
          "data": {
            "text/plain": [
              "0.7069000005722046"
            ]
          },
          "metadata": {},
          "execution_count": 23
        }
      ]
    },
    {
      "cell_type": "markdown",
      "source": [
        "# ResBlock-18layers"
      ],
      "metadata": {
        "id": "qL_dFc0tuH6F"
      }
    },
    {
      "cell_type": "code",
      "source": [
        "model4 = Sequential()\n",
        "model4.add(Conv2D(64, 3, input_shape=(32, 32, 3), padding='same', use_bias=False))\n",
        "model4.add(BatchNormalization())\n",
        "prev_filters = 64\n",
        "for filters in [64]*2+[128]*2+[256]*2+[512]*2:\n",
        "  if filters == prev_filters:\n",
        "    strides = 1\n",
        "  else:\n",
        "    strides = 2\n",
        "  model4.add(ResBlock(filters, strides=strides))\n",
        "  prev_filters = filters\n",
        "\n",
        "model4.add(GlobalAvgPool2D())\n",
        "model4.add(Dense(10, activation='softmax'))\n",
        "model4.summary()"
      ],
      "metadata": {
        "colab": {
          "base_uri": "https://localhost:8080/"
        },
        "id": "XAnrOALjG2N8",
        "outputId": "bf7440e7-7144-401e-b738-16dc9457d1c6"
      },
      "execution_count": null,
      "outputs": [
        {
          "output_type": "stream",
          "name": "stdout",
          "text": [
            "Model: \"sequential_8\"\n",
            "_________________________________________________________________\n",
            " Layer (type)                Output Shape              Param #   \n",
            "=================================================================\n",
            " conv2d_206 (Conv2D)         (None, 32, 32, 64)        1728      \n",
            "                                                                 \n",
            " batch_normalization_206 (Ba  (None, 32, 32, 64)       256       \n",
            " tchNormalization)                                               \n",
            "                                                                 \n",
            " res_block_62 (ResBlock)     (None, 32, 32, 64)        74240     \n",
            "                                                                 \n",
            " res_block_63 (ResBlock)     (None, 32, 32, 64)        74240     \n",
            "                                                                 \n",
            " res_block_64 (ResBlock)     (None, 16, 16, 128)       230912    \n",
            "                                                                 \n",
            " res_block_65 (ResBlock)     (None, 16, 16, 128)       295936    \n",
            "                                                                 \n",
            " res_block_66 (ResBlock)     (None, 8, 8, 256)         920576    \n",
            "                                                                 \n",
            " res_block_67 (ResBlock)     (None, 8, 8, 256)         1181696   \n",
            "                                                                 \n",
            " res_block_68 (ResBlock)     (None, 4, 4, 512)         3676160   \n",
            "                                                                 \n",
            " res_block_69 (ResBlock)     (None, 4, 4, 512)         4722688   \n",
            "                                                                 \n",
            " global_average_pooling2d_8   (None, 512)              0         \n",
            " (GlobalAveragePooling2D)                                        \n",
            "                                                                 \n",
            " dense_8 (Dense)             (None, 10)                5130      \n",
            "                                                                 \n",
            "=================================================================\n",
            "Total params: 11,183,562\n",
            "Trainable params: 11,173,962\n",
            "Non-trainable params: 9,600\n",
            "_________________________________________________________________\n"
          ]
        }
      ]
    },
    {
      "cell_type": "code",
      "source": [
        "model4.compile(optimizer = optimizers.SGD(learning_rate=0.01, momentum=0.9), loss='categorical_crossentropy', metrics = ['accuracy'])\n",
        "early_stopping_callback = EarlyStopping(monitor='val_loss',patience=20)\n",
        "res18_path = 'Res18.hdf5'\n",
        "checkpointer = ModelCheckpoint(filepath = res18_path, monitor='val_loss', verbose=0, save_best_only=True)"
      ],
      "metadata": {
        "id": "xIPxiwC2M1Au"
      },
      "execution_count": null,
      "outputs": []
    },
    {
      "cell_type": "code",
      "source": [
        "model4.fit(X_train, y_train, validation_split = 0.25, epochs = 20, batch_size = 128, callbacks=[early_stopping_callback, checkpointer])"
      ],
      "metadata": {
        "colab": {
          "base_uri": "https://localhost:8080/"
        },
        "id": "tp4WknyGM46M",
        "outputId": "5a9ec0fa-feb1-462f-f0b1-d053303f79e8"
      },
      "execution_count": null,
      "outputs": [
        {
          "output_type": "stream",
          "name": "stdout",
          "text": [
            "Epoch 1/20\n",
            "293/293 [==============================] - 36s 117ms/step - loss: 1.4119 - accuracy: 0.4899 - val_loss: 1.8148 - val_accuracy: 0.3886\n",
            "Epoch 2/20\n",
            "293/293 [==============================] - 34s 116ms/step - loss: 0.9048 - accuracy: 0.6763 - val_loss: 1.2323 - val_accuracy: 0.5591\n",
            "Epoch 3/20\n",
            "293/293 [==============================] - 33s 114ms/step - loss: 0.6180 - accuracy: 0.7822 - val_loss: 1.2474 - val_accuracy: 0.6247\n",
            "Epoch 4/20\n",
            "293/293 [==============================] - 34s 116ms/step - loss: 0.4092 - accuracy: 0.8553 - val_loss: 1.1190 - val_accuracy: 0.6534\n",
            "Epoch 5/20\n",
            "293/293 [==============================] - 33s 114ms/step - loss: 0.2398 - accuracy: 0.9185 - val_loss: 1.7441 - val_accuracy: 0.6097\n",
            "Epoch 6/20\n",
            "293/293 [==============================] - 33s 114ms/step - loss: 0.1386 - accuracy: 0.9526 - val_loss: 1.6600 - val_accuracy: 0.6360\n",
            "Epoch 7/20\n",
            "293/293 [==============================] - 33s 114ms/step - loss: 0.0935 - accuracy: 0.9685 - val_loss: 1.5198 - val_accuracy: 0.6808\n",
            "Epoch 8/20\n",
            "293/293 [==============================] - 36s 122ms/step - loss: 0.0501 - accuracy: 0.9841 - val_loss: 1.4234 - val_accuracy: 0.7092\n",
            "Epoch 9/20\n",
            "293/293 [==============================] - 34s 115ms/step - loss: 0.0289 - accuracy: 0.9912 - val_loss: 1.2473 - val_accuracy: 0.7482\n",
            "Epoch 10/20\n",
            "293/293 [==============================] - 33s 114ms/step - loss: 0.0226 - accuracy: 0.9929 - val_loss: 1.3804 - val_accuracy: 0.7255\n",
            "Epoch 11/20\n",
            "293/293 [==============================] - 33s 114ms/step - loss: 0.0105 - accuracy: 0.9971 - val_loss: 1.5030 - val_accuracy: 0.7279\n",
            "Epoch 12/20\n",
            "293/293 [==============================] - 34s 116ms/step - loss: 0.0031 - accuracy: 0.9995 - val_loss: 1.0027 - val_accuracy: 0.7894\n",
            "Epoch 13/20\n",
            "293/293 [==============================] - 34s 115ms/step - loss: 6.7447e-04 - accuracy: 1.0000 - val_loss: 0.9831 - val_accuracy: 0.7947\n",
            "Epoch 14/20\n",
            "293/293 [==============================] - 34s 116ms/step - loss: 4.0859e-04 - accuracy: 1.0000 - val_loss: 0.9812 - val_accuracy: 0.7957\n",
            "Epoch 15/20\n",
            "293/293 [==============================] - 34s 114ms/step - loss: 2.9609e-04 - accuracy: 1.0000 - val_loss: 0.9856 - val_accuracy: 0.7974\n",
            "Epoch 16/20\n",
            "293/293 [==============================] - 34s 114ms/step - loss: 2.4818e-04 - accuracy: 1.0000 - val_loss: 0.9889 - val_accuracy: 0.7973\n",
            "Epoch 17/20\n",
            "293/293 [==============================] - 34s 115ms/step - loss: 2.0846e-04 - accuracy: 1.0000 - val_loss: 0.9919 - val_accuracy: 0.7979\n",
            "Epoch 18/20\n",
            "293/293 [==============================] - 34s 114ms/step - loss: 1.8576e-04 - accuracy: 1.0000 - val_loss: 0.9974 - val_accuracy: 0.7973\n",
            "Epoch 19/20\n",
            "293/293 [==============================] - 36s 122ms/step - loss: 1.7174e-04 - accuracy: 1.0000 - val_loss: 0.9987 - val_accuracy: 0.7975\n",
            "Epoch 20/20\n",
            "293/293 [==============================] - 34s 115ms/step - loss: 1.5891e-04 - accuracy: 1.0000 - val_loss: 1.0011 - val_accuracy: 0.7981\n"
          ]
        },
        {
          "output_type": "execute_result",
          "data": {
            "text/plain": [
              "<keras.callbacks.History at 0x7f7fa04763d0>"
            ]
          },
          "metadata": {},
          "execution_count": 51
        }
      ]
    },
    {
      "cell_type": "code",
      "source": [
        "model4.load_weights(res18_path)\n",
        "model4.evaluate(X_test, y_test)[1]"
      ],
      "metadata": {
        "colab": {
          "base_uri": "https://localhost:8080/"
        },
        "id": "Uff6CYktRX9Z",
        "outputId": "b7fea29b-9838-419f-f084-98055d53f6f8"
      },
      "execution_count": null,
      "outputs": [
        {
          "output_type": "stream",
          "name": "stdout",
          "text": [
            "313/313 [==============================] - 4s 12ms/step - loss: 1.0288 - accuracy: 0.7892\n"
          ]
        },
        {
          "output_type": "execute_result",
          "data": {
            "text/plain": [
              "0.7892000079154968"
            ]
          },
          "metadata": {},
          "execution_count": 53
        }
      ]
    },
    {
      "cell_type": "markdown",
      "source": [
        "# PlainBlock-34layers"
      ],
      "metadata": {
        "id": "_1rqKuDaBvw8"
      }
    },
    {
      "cell_type": "code",
      "source": [
        "model5 = Sequential()\n",
        "model5.add(Conv2D(64, 3, input_shape=(32, 32, 3), padding='same', use_bias=False))\n",
        "model5.add(BatchNormalization())\n",
        "prev_filters = 64\n",
        "for filters in [64]*3+[128]*4+[256]*6+[512]*3:\n",
        "  if filters == prev_filters:\n",
        "    strides = 1\n",
        "  else:\n",
        "    strides = 2\n",
        "  model5.add(PlainBlock(filters, strides=strides))\n",
        "  prev_filters = filters\n",
        "\n",
        "model5.add(GlobalAvgPool2D())\n",
        "model5.add(Dense(10, activation='softmax'))\n",
        "model5.summary()"
      ],
      "metadata": {
        "colab": {
          "base_uri": "https://localhost:8080/"
        },
        "outputId": "7bda7d24-9a5f-4d49-a404-af7e7e38c845",
        "id": "v8KMgF7cBvxC"
      },
      "execution_count": null,
      "outputs": [
        {
          "output_type": "stream",
          "name": "stdout",
          "text": [
            "Model: \"sequential_2\"\n",
            "_________________________________________________________________\n",
            " Layer (type)                Output Shape              Param #   \n",
            "=================================================================\n",
            " conv2d_30 (Conv2D)          (None, 32, 32, 64)        1728      \n",
            "                                                                 \n",
            " batch_normalization_30 (Bat  (None, 32, 32, 64)       256       \n",
            " chNormalization)                                                \n",
            "                                                                 \n",
            " plane_block_14 (PlaneBlock)  (None, 32, 32, 64)       74240     \n",
            "                                                                 \n",
            " plane_block_15 (PlaneBlock)  (None, 32, 32, 64)       74240     \n",
            "                                                                 \n",
            " plane_block_16 (PlaneBlock)  (None, 32, 32, 64)       74240     \n",
            "                                                                 \n",
            " plane_block_17 (PlaneBlock)  (None, 16, 16, 128)      222208    \n",
            "                                                                 \n",
            " plane_block_18 (PlaneBlock)  (None, 16, 16, 128)      295936    \n",
            "                                                                 \n",
            " plane_block_19 (PlaneBlock)  (None, 16, 16, 128)      295936    \n",
            "                                                                 \n",
            " plane_block_20 (PlaneBlock)  (None, 16, 16, 128)      295936    \n",
            "                                                                 \n",
            " plane_block_21 (PlaneBlock)  (None, 8, 8, 256)        886784    \n",
            "                                                                 \n",
            " plane_block_22 (PlaneBlock)  (None, 8, 8, 256)        1181696   \n",
            "                                                                 \n",
            " plane_block_23 (PlaneBlock)  (None, 8, 8, 256)        1181696   \n",
            "                                                                 \n",
            " plane_block_24 (PlaneBlock)  (None, 8, 8, 256)        1181696   \n",
            "                                                                 \n",
            " plane_block_25 (PlaneBlock)  (None, 8, 8, 256)        1181696   \n",
            "                                                                 \n",
            " plane_block_26 (PlaneBlock)  (None, 8, 8, 256)        1181696   \n",
            "                                                                 \n",
            " plane_block_27 (PlaneBlock)  (None, 4, 4, 512)        3543040   \n",
            "                                                                 \n",
            " plane_block_28 (PlaneBlock)  (None, 4, 4, 512)        4722688   \n",
            "                                                                 \n",
            " plane_block_29 (PlaneBlock)  (None, 4, 4, 512)        4722688   \n",
            "                                                                 \n",
            " global_average_pooling2d_2   (None, 512)              0         \n",
            " (GlobalAveragePooling2D)                                        \n",
            "                                                                 \n",
            " dense_2 (Dense)             (None, 10)                5130      \n",
            "                                                                 \n",
            "=================================================================\n",
            "Total params: 21,123,530\n",
            "Trainable params: 21,108,298\n",
            "Non-trainable params: 15,232\n",
            "_________________________________________________________________\n"
          ]
        }
      ]
    },
    {
      "cell_type": "code",
      "source": [
        "model5.compile(optimizer = optimizers.SGD(learning_rate=0.01, momentum=0.9), loss='categorical_crossentropy', metrics = ['accuracy'])\n",
        "early_stopping_callback = EarlyStopping(monitor='val_loss',patience=20)\n",
        "Plain34_path = 'Plain34.hdf5'\n",
        "checkpointer = ModelCheckpoint(filepath = Plain34_path, monitor='val_loss', verbose=0, save_best_only=True)"
      ],
      "metadata": {
        "id": "Mjh78z2aBvxC"
      },
      "execution_count": null,
      "outputs": []
    },
    {
      "cell_type": "code",
      "source": [
        "model5.fit(X_train, y_train, validation_split = 0.25, epochs = 20, batch_size = 128, callbacks=[early_stopping_callback, checkpointer])"
      ],
      "metadata": {
        "colab": {
          "base_uri": "https://localhost:8080/"
        },
        "outputId": "46e99eaa-7f31-456a-91dc-e3b0ebed9940",
        "id": "JW-Y_cVuBvxC"
      },
      "execution_count": null,
      "outputs": [
        {
          "output_type": "stream",
          "name": "stdout",
          "text": [
            "Epoch 1/20\n",
            "293/293 [==============================] - 58s 190ms/step - loss: 1.9853 - accuracy: 0.2627 - val_loss: 1.8202 - val_accuracy: 0.3001\n",
            "Epoch 2/20\n",
            "293/293 [==============================] - 55s 186ms/step - loss: 1.6550 - accuracy: 0.3851 - val_loss: 1.6756 - val_accuracy: 0.3950\n",
            "Epoch 3/20\n",
            "293/293 [==============================] - 55s 188ms/step - loss: 1.4832 - accuracy: 0.4563 - val_loss: 2.2192 - val_accuracy: 0.3110\n",
            "Epoch 4/20\n",
            "293/293 [==============================] - 55s 189ms/step - loss: 1.3289 - accuracy: 0.5154 - val_loss: 1.4490 - val_accuracy: 0.4935\n",
            "Epoch 5/20\n",
            "293/293 [==============================] - 55s 188ms/step - loss: 1.1753 - accuracy: 0.5770 - val_loss: 1.3003 - val_accuracy: 0.5352\n",
            "Epoch 6/20\n",
            "293/293 [==============================] - 55s 189ms/step - loss: 1.0368 - accuracy: 0.6317 - val_loss: 1.0526 - val_accuracy: 0.6290\n",
            "Epoch 7/20\n",
            "293/293 [==============================] - 55s 188ms/step - loss: 0.9102 - accuracy: 0.6798 - val_loss: 1.0511 - val_accuracy: 0.6359\n",
            "Epoch 8/20\n",
            "293/293 [==============================] - 54s 186ms/step - loss: 0.7881 - accuracy: 0.7239 - val_loss: 1.6408 - val_accuracy: 0.5251\n",
            "Epoch 9/20\n",
            "293/293 [==============================] - 55s 188ms/step - loss: 0.6946 - accuracy: 0.7602 - val_loss: 0.9408 - val_accuracy: 0.6850\n",
            "Epoch 10/20\n",
            "293/293 [==============================] - 55s 186ms/step - loss: 0.5978 - accuracy: 0.7930 - val_loss: 0.9907 - val_accuracy: 0.6678\n",
            "Epoch 11/20\n",
            "293/293 [==============================] - 55s 186ms/step - loss: 0.5104 - accuracy: 0.8213 - val_loss: 0.9827 - val_accuracy: 0.6880\n",
            "Epoch 12/20\n",
            "293/293 [==============================] - 55s 188ms/step - loss: 0.4353 - accuracy: 0.8499 - val_loss: 0.8830 - val_accuracy: 0.7235\n",
            "Epoch 13/20\n",
            "293/293 [==============================] - 55s 188ms/step - loss: 0.3766 - accuracy: 0.8684 - val_loss: 0.8660 - val_accuracy: 0.7278\n",
            "Epoch 14/20\n",
            "293/293 [==============================] - 55s 186ms/step - loss: 0.3139 - accuracy: 0.8919 - val_loss: 1.0804 - val_accuracy: 0.7000\n",
            "Epoch 15/20\n",
            "293/293 [==============================] - 55s 186ms/step - loss: 0.2752 - accuracy: 0.9036 - val_loss: 1.3531 - val_accuracy: 0.6679\n",
            "Epoch 16/20\n",
            "293/293 [==============================] - 55s 186ms/step - loss: 0.2234 - accuracy: 0.9226 - val_loss: 1.0623 - val_accuracy: 0.7210\n",
            "Epoch 17/20\n",
            "293/293 [==============================] - 54s 186ms/step - loss: 0.1845 - accuracy: 0.9376 - val_loss: 1.0814 - val_accuracy: 0.7316\n",
            "Epoch 18/20\n",
            "293/293 [==============================] - 54s 185ms/step - loss: 0.1750 - accuracy: 0.9380 - val_loss: 1.0996 - val_accuracy: 0.7350\n",
            "Epoch 19/20\n",
            "293/293 [==============================] - 55s 186ms/step - loss: 0.1450 - accuracy: 0.9503 - val_loss: 1.2292 - val_accuracy: 0.7114\n",
            "Epoch 20/20\n",
            "293/293 [==============================] - 54s 186ms/step - loss: 0.1170 - accuracy: 0.9592 - val_loss: 1.0838 - val_accuracy: 0.7485\n"
          ]
        },
        {
          "output_type": "execute_result",
          "data": {
            "text/plain": [
              "<keras.callbacks.History at 0x7f80440bddd0>"
            ]
          },
          "metadata": {},
          "execution_count": 21
        }
      ]
    },
    {
      "cell_type": "code",
      "source": [
        "model5.load_weights(Plain34_path)\n",
        "model5.evaluate(X_test, y_test)[1]"
      ],
      "metadata": {
        "colab": {
          "base_uri": "https://localhost:8080/"
        },
        "id": "O_7_FDqpBvxD",
        "outputId": "368582f0-11d1-4167-d53d-31192c5251a5"
      },
      "execution_count": null,
      "outputs": [
        {
          "output_type": "stream",
          "name": "stdout",
          "text": [
            "313/313 [==============================] - 6s 19ms/step - loss: 0.8959 - accuracy: 0.7215\n"
          ]
        },
        {
          "output_type": "execute_result",
          "data": {
            "text/plain": [
              "0.7214999794960022"
            ]
          },
          "metadata": {},
          "execution_count": 24
        }
      ]
    },
    {
      "cell_type": "markdown",
      "source": [
        "# ResBlock-34layers"
      ],
      "metadata": {
        "id": "81G_CJyFB3uk"
      }
    },
    {
      "cell_type": "code",
      "source": [
        "model6 = Sequential()\n",
        "model6.add(Conv2D(64, 3, input_shape=(32, 32, 3), padding='same', use_bias=False))\n",
        "model6.add(BatchNormalization())\n",
        "prev_filters = 64\n",
        "for filters in [64]*3+[128]*4+[256]*6+[512]*3:\n",
        "  if filters == prev_filters:\n",
        "    strides = 1\n",
        "  else:\n",
        "    strides = 2\n",
        "  model6.add(ResBlock(filters, strides=strides))\n",
        "  prev_filters = filters\n",
        "\n",
        "model6.add(GlobalAvgPool2D())\n",
        "model6.add(Dense(10, activation='softmax'))\n",
        "model6.summary()"
      ],
      "metadata": {
        "colab": {
          "base_uri": "https://localhost:8080/"
        },
        "outputId": "f283aa91-5cf0-4328-86e0-decab1216519",
        "id": "uVGu81j2B3uk"
      },
      "execution_count": null,
      "outputs": [
        {
          "output_type": "stream",
          "name": "stdout",
          "text": [
            "Model: \"sequential_9\"\n",
            "_________________________________________________________________\n",
            " Layer (type)                Output Shape              Param #   \n",
            "=================================================================\n",
            " conv2d_226 (Conv2D)         (None, 32, 32, 64)        1728      \n",
            "                                                                 \n",
            " batch_normalization_226 (Ba  (None, 32, 32, 64)       256       \n",
            " tchNormalization)                                               \n",
            "                                                                 \n",
            " res_block_70 (ResBlock)     (None, 32, 32, 64)        74240     \n",
            "                                                                 \n",
            " res_block_71 (ResBlock)     (None, 32, 32, 64)        74240     \n",
            "                                                                 \n",
            " res_block_72 (ResBlock)     (None, 32, 32, 64)        74240     \n",
            "                                                                 \n",
            " res_block_73 (ResBlock)     (None, 16, 16, 128)       230912    \n",
            "                                                                 \n",
            " res_block_74 (ResBlock)     (None, 16, 16, 128)       295936    \n",
            "                                                                 \n",
            " res_block_75 (ResBlock)     (None, 16, 16, 128)       295936    \n",
            "                                                                 \n",
            " res_block_76 (ResBlock)     (None, 16, 16, 128)       295936    \n",
            "                                                                 \n",
            " res_block_77 (ResBlock)     (None, 8, 8, 256)         920576    \n",
            "                                                                 \n",
            " res_block_78 (ResBlock)     (None, 8, 8, 256)         1181696   \n",
            "                                                                 \n",
            " res_block_79 (ResBlock)     (None, 8, 8, 256)         1181696   \n",
            "                                                                 \n",
            " res_block_80 (ResBlock)     (None, 8, 8, 256)         1181696   \n",
            "                                                                 \n",
            " res_block_81 (ResBlock)     (None, 8, 8, 256)         1181696   \n",
            "                                                                 \n",
            " res_block_82 (ResBlock)     (None, 8, 8, 256)         1181696   \n",
            "                                                                 \n",
            " res_block_83 (ResBlock)     (None, 4, 4, 512)         3676160   \n",
            "                                                                 \n",
            " res_block_84 (ResBlock)     (None, 4, 4, 512)         4722688   \n",
            "                                                                 \n",
            " res_block_85 (ResBlock)     (None, 4, 4, 512)         4722688   \n",
            "                                                                 \n",
            " global_average_pooling2d_9   (None, 512)              0         \n",
            " (GlobalAveragePooling2D)                                        \n",
            "                                                                 \n",
            " dense_9 (Dense)             (None, 10)                5130      \n",
            "                                                                 \n",
            "=================================================================\n",
            "Total params: 21,299,146\n",
            "Trainable params: 21,282,122\n",
            "Non-trainable params: 17,024\n",
            "_________________________________________________________________\n"
          ]
        }
      ]
    },
    {
      "cell_type": "code",
      "source": [
        "model6.compile(optimizer = optimizers.SGD(learning_rate=0.01, momentum=0.9), loss='categorical_crossentropy', metrics = ['accuracy'])\n",
        "early_stopping_callback = EarlyStopping(monitor='val_loss',patience=20, restore_best_weights = True)\n",
        "res34_path = 'Res34.hdf5'\n",
        "checkpointer = ModelCheckpoint(filepath = res34_path, monitor='val_loss', verbose=0, save_best_only=True)"
      ],
      "metadata": {
        "id": "_PPahGjhB3ul"
      },
      "execution_count": null,
      "outputs": []
    },
    {
      "cell_type": "code",
      "source": [
        "model6.fit(X_train, y_train, validation_split = 0.25, epochs = 20, batch_size = 128, callbacks=[early_stopping_callback, checkpointer])"
      ],
      "metadata": {
        "colab": {
          "base_uri": "https://localhost:8080/"
        },
        "outputId": "92cf4894-9daf-4dee-fb7a-be9399cdf58d",
        "id": "SUsN1UIGB3ul"
      },
      "execution_count": null,
      "outputs": [
        {
          "output_type": "stream",
          "name": "stdout",
          "text": [
            "Epoch 1/20\n",
            "293/293 [==============================] - 58s 198ms/step - loss: 1.0102 - accuracy: 0.6422 - val_loss: 0.9719 - val_accuracy: 0.6613\n",
            "Epoch 2/20\n",
            "293/293 [==============================] - 57s 196ms/step - loss: 0.7077 - accuracy: 0.7510 - val_loss: 1.1852 - val_accuracy: 0.6258\n",
            "Epoch 3/20\n",
            "293/293 [==============================] - 57s 196ms/step - loss: 0.5043 - accuracy: 0.8255 - val_loss: 1.3695 - val_accuracy: 0.6158\n",
            "Epoch 4/20\n",
            "293/293 [==============================] - 58s 196ms/step - loss: 0.3390 - accuracy: 0.8799 - val_loss: 1.1818 - val_accuracy: 0.6770\n",
            "Epoch 5/20\n",
            "293/293 [==============================] - 58s 196ms/step - loss: 0.2222 - accuracy: 0.9214 - val_loss: 1.5325 - val_accuracy: 0.6554\n",
            "Epoch 6/20\n",
            "293/293 [==============================] - 58s 197ms/step - loss: 0.1571 - accuracy: 0.9449 - val_loss: 1.6992 - val_accuracy: 0.6509\n",
            "Epoch 7/20\n",
            "293/293 [==============================] - 58s 196ms/step - loss: 0.1260 - accuracy: 0.9553 - val_loss: 2.2300 - val_accuracy: 0.6080\n",
            "Epoch 8/20\n",
            "293/293 [==============================] - 57s 196ms/step - loss: 0.0880 - accuracy: 0.9688 - val_loss: 1.4891 - val_accuracy: 0.6916\n",
            "Epoch 9/20\n",
            "293/293 [==============================] - 57s 196ms/step - loss: 0.0600 - accuracy: 0.9794 - val_loss: 1.5762 - val_accuracy: 0.6997\n",
            "Epoch 10/20\n",
            "293/293 [==============================] - 57s 196ms/step - loss: 0.0527 - accuracy: 0.9820 - val_loss: 1.6132 - val_accuracy: 0.7183\n",
            "Epoch 11/20\n",
            "293/293 [==============================] - 57s 196ms/step - loss: 0.0457 - accuracy: 0.9837 - val_loss: 1.8849 - val_accuracy: 0.6893\n",
            "Epoch 12/20\n",
            "293/293 [==============================] - 57s 196ms/step - loss: 0.0356 - accuracy: 0.9877 - val_loss: 1.4442 - val_accuracy: 0.7406\n",
            "Epoch 13/20\n",
            "293/293 [==============================] - 57s 196ms/step - loss: 0.0282 - accuracy: 0.9906 - val_loss: 1.3197 - val_accuracy: 0.7470\n",
            "Epoch 14/20\n",
            "293/293 [==============================] - 57s 196ms/step - loss: 0.0184 - accuracy: 0.9940 - val_loss: 1.4352 - val_accuracy: 0.7474\n",
            "Epoch 15/20\n",
            "293/293 [==============================] - 57s 196ms/step - loss: 0.0149 - accuracy: 0.9951 - val_loss: 1.5141 - val_accuracy: 0.7407\n",
            "Epoch 16/20\n",
            "293/293 [==============================] - 57s 196ms/step - loss: 0.0096 - accuracy: 0.9971 - val_loss: 1.4744 - val_accuracy: 0.7600\n",
            "Epoch 17/20\n",
            "293/293 [==============================] - 57s 196ms/step - loss: 0.0039 - accuracy: 0.9991 - val_loss: 1.3859 - val_accuracy: 0.7670\n",
            "Epoch 18/20\n",
            "293/293 [==============================] - 57s 196ms/step - loss: 0.0016 - accuracy: 0.9997 - val_loss: 1.2784 - val_accuracy: 0.7901\n",
            "Epoch 19/20\n",
            "293/293 [==============================] - 58s 197ms/step - loss: 9.1550e-04 - accuracy: 0.9998 - val_loss: 1.3308 - val_accuracy: 0.7812\n",
            "Epoch 20/20\n",
            "293/293 [==============================] - 57s 196ms/step - loss: 4.8629e-04 - accuracy: 0.9999 - val_loss: 1.1965 - val_accuracy: 0.7978\n"
          ]
        },
        {
          "output_type": "execute_result",
          "data": {
            "text/plain": [
              "<keras.callbacks.History at 0x7f7ea000f410>"
            ]
          },
          "metadata": {},
          "execution_count": 57
        }
      ]
    },
    {
      "cell_type": "code",
      "source": [
        "model6.load_weights(res34_path)\n",
        "model6.evaluate(X_test, y_test)[1]"
      ],
      "metadata": {
        "colab": {
          "base_uri": "https://localhost:8080/"
        },
        "outputId": "4ca78c86-fe5f-4faa-867e-f529d314ba06",
        "id": "V-wKqnsjB3ul"
      },
      "execution_count": null,
      "outputs": [
        {
          "output_type": "stream",
          "name": "stdout",
          "text": [
            "313/313 [==============================] - 6s 20ms/step - loss: 1.2674 - accuracy: 0.7920\n"
          ]
        },
        {
          "output_type": "execute_result",
          "data": {
            "text/plain": [
              "0.7919999957084656"
            ]
          },
          "metadata": {},
          "execution_count": 58
        }
      ]
    },
    {
      "cell_type": "markdown",
      "source": [
        "# 비교"
      ],
      "metadata": {
        "id": "psgVLbzF8AZj"
      }
    },
    {
      "cell_type": "markdown",
      "source": [
        "Plain 14 \\\\\n",
        "0.7192000150680542 \\\\\n",
        "Res 14 \\\\\n",
        "0.7095000147819519 \\\\\n",
        "\n",
        "Plain 18 \\\\\n",
        "0.7069000005722046 \\\\\n",
        "Res 18 \\\\\n",
        "0.7892000079154968\n",
        "\n",
        "Plain 34 \\\\\n",
        "0.7214999794960022 \\\\\n",
        "Res\t34 \\\\\n",
        "0.7919999957084656"
      ],
      "metadata": {
        "id": "OKC9qzi_8Dx7"
      }
    },
    {
      "cell_type": "markdown",
      "source": [
        "# MNIST Dataset ResBlock-32layers"
      ],
      "metadata": {
        "id": "M1TlZWqM7bLM"
      }
    },
    {
      "cell_type": "code",
      "source": [
        "(X_train, y_train), (X_test, y_test) = mnist.load_data()"
      ],
      "metadata": {
        "id": "Zet2fiQp7Zod"
      },
      "execution_count": null,
      "outputs": []
    },
    {
      "cell_type": "code",
      "source": [
        "X_train.shape"
      ],
      "metadata": {
        "colab": {
          "base_uri": "https://localhost:8080/"
        },
        "id": "0BSDrk6x77AI",
        "outputId": "3f799d76-275c-43c3-88e6-f31091c3cf4f"
      },
      "execution_count": null,
      "outputs": [
        {
          "output_type": "execute_result",
          "data": {
            "text/plain": [
              "(60000, 28, 28)"
            ]
          },
          "metadata": {},
          "execution_count": 23
        }
      ]
    },
    {
      "cell_type": "code",
      "source": [
        "y_train.shape"
      ],
      "metadata": {
        "colab": {
          "base_uri": "https://localhost:8080/"
        },
        "id": "-BI0xmBK8CrX",
        "outputId": "9591af36-6293-4dfb-c476-aea9c575061b"
      },
      "execution_count": null,
      "outputs": [
        {
          "output_type": "execute_result",
          "data": {
            "text/plain": [
              "(60000,)"
            ]
          },
          "metadata": {},
          "execution_count": 24
        }
      ]
    },
    {
      "cell_type": "code",
      "source": [
        "import sklearn.preprocessing\n",
        "\n",
        "label_binarizer = sklearn.preprocessing.LabelBinarizer()\n",
        "label_binarizer.fit(range((max(y_train)+1)))\n",
        "y_train = label_binarizer.transform(y_train)\n",
        "label_binarizer.fit(range((max(y_test)+1)))\n",
        "y_test = label_binarizer.transform(y_test)\n",
        "print(y_train.shape)\n",
        "print(y_test.shape)"
      ],
      "metadata": {
        "colab": {
          "base_uri": "https://localhost:8080/"
        },
        "id": "rqT8yzzO8Lfg",
        "outputId": "6e478a3b-9329-4122-8e09-cda644534688"
      },
      "execution_count": null,
      "outputs": [
        {
          "output_type": "stream",
          "name": "stdout",
          "text": [
            "(60000, 10)\n",
            "(10000, 10)\n"
          ]
        }
      ]
    },
    {
      "cell_type": "code",
      "source": [
        "model7 = Sequential()\n",
        "model7.add(Conv2D(64, 3, input_shape=(28, 28, 1), padding='same', use_bias=False))\n",
        "model7.add(BatchNormalization())\n",
        "prev_filters = 64\n",
        "for filters in [64]*3+[128]*4+[256]*6+[512]*3:\n",
        "  if filters == prev_filters:\n",
        "    strides = 1\n",
        "  else:\n",
        "    strides = 2\n",
        "  model7.add(ResBlock(filters, strides=strides))\n",
        "  prev_filters = filters\n",
        "\n",
        "model7.add(GlobalAvgPool2D())\n",
        "model7.add(Dense(10, activation='softmax'))\n",
        "model7.summary()"
      ],
      "metadata": {
        "colab": {
          "base_uri": "https://localhost:8080/"
        },
        "id": "GLWoUYTx8Zg-",
        "outputId": "0e961d5b-0c93-422c-c09f-75a449358356"
      },
      "execution_count": null,
      "outputs": [
        {
          "output_type": "stream",
          "name": "stdout",
          "text": [
            "Model: \"sequential_5\"\n",
            "_________________________________________________________________\n",
            " Layer (type)                Output Shape              Param #   \n",
            "=================================================================\n",
            " conv2d_154 (Conv2D)         (None, 28, 28, 64)        576       \n",
            "                                                                 \n",
            " batch_normalization_154 (Ba  (None, 28, 28, 64)       256       \n",
            " tchNormalization)                                               \n",
            "                                                                 \n",
            " res_block_68 (ResBlock)     (None, 28, 28, 64)        74240     \n",
            "                                                                 \n",
            " res_block_69 (ResBlock)     (None, 28, 28, 64)        74240     \n",
            "                                                                 \n",
            " res_block_70 (ResBlock)     (None, 28, 28, 64)        74240     \n",
            "                                                                 \n",
            " res_block_71 (ResBlock)     (None, 14, 14, 128)       230912    \n",
            "                                                                 \n",
            " res_block_72 (ResBlock)     (None, 14, 14, 128)       295936    \n",
            "                                                                 \n",
            " res_block_73 (ResBlock)     (None, 14, 14, 128)       295936    \n",
            "                                                                 \n",
            " res_block_74 (ResBlock)     (None, 14, 14, 128)       295936    \n",
            "                                                                 \n",
            " res_block_75 (ResBlock)     (None, 7, 7, 256)         920576    \n",
            "                                                                 \n",
            " res_block_76 (ResBlock)     (None, 7, 7, 256)         1181696   \n",
            "                                                                 \n",
            " res_block_77 (ResBlock)     (None, 7, 7, 256)         1181696   \n",
            "                                                                 \n",
            " res_block_78 (ResBlock)     (None, 7, 7, 256)         1181696   \n",
            "                                                                 \n",
            " res_block_79 (ResBlock)     (None, 7, 7, 256)         1181696   \n",
            "                                                                 \n",
            " res_block_80 (ResBlock)     (None, 7, 7, 256)         1181696   \n",
            "                                                                 \n",
            " res_block_81 (ResBlock)     (None, 4, 4, 512)         3676160   \n",
            "                                                                 \n",
            " res_block_82 (ResBlock)     (None, 4, 4, 512)         4722688   \n",
            "                                                                 \n",
            " res_block_83 (ResBlock)     (None, 4, 4, 512)         4722688   \n",
            "                                                                 \n",
            " global_average_pooling2d_4   (None, 512)              0         \n",
            " (GlobalAveragePooling2D)                                        \n",
            "                                                                 \n",
            " dense_4 (Dense)             (None, 10)                5130      \n",
            "                                                                 \n",
            "=================================================================\n",
            "Total params: 21,297,994\n",
            "Trainable params: 21,280,970\n",
            "Non-trainable params: 17,024\n",
            "_________________________________________________________________\n"
          ]
        }
      ]
    },
    {
      "cell_type": "code",
      "source": [
        "model7.compile(optimizer = optimizers.SGD(learning_rate=0.01, momentum=0.9), loss='categorical_crossentropy', metrics = ['accuracy'])\n",
        "early_stopping_callback = EarlyStopping(monitor='val_loss',patience=10, restore_best_weights = True)"
      ],
      "metadata": {
        "id": "jJFfupYvJ7MR"
      },
      "execution_count": null,
      "outputs": []
    },
    {
      "cell_type": "code",
      "source": [
        "model7.fit(X_train, y_train, validation_split = 0.25, epochs = 10, batch_size = 128, callbacks=[early_stopping_callback])"
      ],
      "metadata": {
        "colab": {
          "base_uri": "https://localhost:8080/"
        },
        "id": "pju2VfmCJ8zG",
        "outputId": "d6cbc032-087e-42b0-8640-27fabe1bbb2b"
      },
      "execution_count": null,
      "outputs": [
        {
          "output_type": "stream",
          "name": "stdout",
          "text": [
            "Epoch 1/10\n",
            "352/352 [==============================] - 118s 187ms/step - loss: 0.1633 - accuracy: 0.9484 - val_loss: 0.0857 - val_accuracy: 0.9725\n",
            "Epoch 2/10\n",
            "352/352 [==============================] - 64s 183ms/step - loss: 0.0286 - accuracy: 0.9913 - val_loss: 0.1133 - val_accuracy: 0.9673\n",
            "Epoch 3/10\n",
            "352/352 [==============================] - 64s 182ms/step - loss: 0.0146 - accuracy: 0.9953 - val_loss: 0.0555 - val_accuracy: 0.9836\n",
            "Epoch 4/10\n",
            "352/352 [==============================] - 64s 183ms/step - loss: 0.0073 - accuracy: 0.9978 - val_loss: 0.0680 - val_accuracy: 0.9821\n",
            "Epoch 5/10\n",
            "352/352 [==============================] - 65s 183ms/step - loss: 0.0025 - accuracy: 0.9993 - val_loss: 0.0350 - val_accuracy: 0.9914\n",
            "Epoch 6/10\n",
            "352/352 [==============================] - 64s 182ms/step - loss: 8.1540e-04 - accuracy: 0.9999 - val_loss: 0.0340 - val_accuracy: 0.9921\n",
            "Epoch 7/10\n",
            "352/352 [==============================] - 64s 183ms/step - loss: 2.8325e-04 - accuracy: 1.0000 - val_loss: 0.0323 - val_accuracy: 0.9924\n",
            "Epoch 8/10\n",
            "352/352 [==============================] - 65s 183ms/step - loss: 1.5423e-04 - accuracy: 1.0000 - val_loss: 0.0315 - val_accuracy: 0.9923\n",
            "Epoch 9/10\n",
            "352/352 [==============================] - 64s 182ms/step - loss: 1.1793e-04 - accuracy: 1.0000 - val_loss: 0.0317 - val_accuracy: 0.9925\n",
            "Epoch 10/10\n",
            "352/352 [==============================] - 64s 183ms/step - loss: 9.6272e-05 - accuracy: 1.0000 - val_loss: 0.0323 - val_accuracy: 0.9923\n"
          ]
        },
        {
          "output_type": "execute_result",
          "data": {
            "text/plain": [
              "<keras.callbacks.History at 0x7efe02d60450>"
            ]
          },
          "metadata": {},
          "execution_count": 34
        }
      ]
    },
    {
      "cell_type": "code",
      "source": [
        "model7.evaluate(X_test, y_test)[1]"
      ],
      "metadata": {
        "colab": {
          "base_uri": "https://localhost:8080/"
        },
        "id": "15z1W1rnKAoR",
        "outputId": "fe649bb6-49d6-4015-a7ce-a8c68d6193d8"
      },
      "execution_count": null,
      "outputs": [
        {
          "output_type": "stream",
          "name": "stdout",
          "text": [
            "313/313 [==============================] - 6s 19ms/step - loss: 0.0195 - accuracy: 0.9941\n"
          ]
        },
        {
          "output_type": "execute_result",
          "data": {
            "text/plain": [
              "0.9940999746322632"
            ]
          },
          "metadata": {},
          "execution_count": 35
        }
      ]
    },
    {
      "cell_type": "code",
      "source": [
        "model7.compile(optimizer = optimizers.SGD(learning_rate=0.01, momentum=0.9), loss='categorical_crossentropy', metrics = ['accuracy'])"
      ],
      "metadata": {
        "id": "3gsxG1J7K1RS"
      },
      "execution_count": null,
      "outputs": []
    },
    {
      "cell_type": "code",
      "source": [
        "model7.fit(X_train, y_train, epochs = 10, batch_size = 128)"
      ],
      "metadata": {
        "colab": {
          "base_uri": "https://localhost:8080/"
        },
        "id": "7iqr3cuQPoEH",
        "outputId": "e2888c8b-4b61-4f78-9d7a-7a9d457c443f"
      },
      "execution_count": null,
      "outputs": [
        {
          "output_type": "stream",
          "name": "stdout",
          "text": [
            "Epoch 1/10\n",
            "469/469 [==============================] - 81s 168ms/step - loss: 0.1289 - accuracy: 0.9589\n",
            "Epoch 2/10\n",
            "469/469 [==============================] - 78s 167ms/step - loss: 0.0238 - accuracy: 0.9928\n",
            "Epoch 3/10\n",
            "469/469 [==============================] - 78s 166ms/step - loss: 0.0124 - accuracy: 0.9961\n",
            "Epoch 4/10\n",
            "469/469 [==============================] - 78s 167ms/step - loss: 0.0066 - accuracy: 0.9982\n",
            "Epoch 5/10\n",
            "469/469 [==============================] - 78s 167ms/step - loss: 0.0026 - accuracy: 0.9993\n",
            "Epoch 6/10\n",
            "469/469 [==============================] - 78s 167ms/step - loss: 0.0028 - accuracy: 0.9993\n",
            "Epoch 7/10\n",
            "469/469 [==============================] - 78s 167ms/step - loss: 0.0011 - accuracy: 0.9998\n",
            "Epoch 8/10\n",
            "469/469 [==============================] - 78s 166ms/step - loss: 2.0448e-04 - accuracy: 1.0000\n",
            "Epoch 9/10\n",
            "469/469 [==============================] - 78s 167ms/step - loss: 1.1474e-04 - accuracy: 1.0000\n",
            "Epoch 10/10\n",
            "469/469 [==============================] - 78s 167ms/step - loss: 9.5876e-05 - accuracy: 1.0000\n"
          ]
        },
        {
          "output_type": "execute_result",
          "data": {
            "text/plain": [
              "<keras.callbacks.History at 0x7efd7a753850>"
            ]
          },
          "metadata": {},
          "execution_count": 43
        }
      ]
    },
    {
      "cell_type": "code",
      "source": [
        "model7.evaluate(X_test, y_test)[1]"
      ],
      "metadata": {
        "colab": {
          "base_uri": "https://localhost:8080/"
        },
        "id": "YCIFb7nsWlcp",
        "outputId": "1122ad43-db96-468b-ab55-83bfd7d8f83d"
      },
      "execution_count": null,
      "outputs": [
        {
          "output_type": "stream",
          "name": "stdout",
          "text": [
            "313/313 [==============================] - 7s 20ms/step - loss: 0.0184 - accuracy: 0.9951\n"
          ]
        },
        {
          "output_type": "execute_result",
          "data": {
            "text/plain": [
              "0.9951000213623047"
            ]
          },
          "metadata": {},
          "execution_count": 44
        }
      ]
    },
    {
      "cell_type": "markdown",
      "source": [
        "# 정리"
      ],
      "metadata": {
        "id": "cOo0hUl0Fz7J"
      }
    },
    {
      "cell_type": "markdown",
      "source": [
        "epoch : 10 \\\\\n",
        "batch_size = 128 \\\\\n",
        "SGD(learning_rate=0.01, momentum=0.9) 사용\n",
        "\n",
        "\n",
        "검증세트 사용, restore_best_weights = True : 0.9940999746322632 \\\\\n",
        "검증세트 미사용 : 0.9951000213623047\n",
        "\n"
      ],
      "metadata": {
        "id": "olqhuUp-F18K"
      }
    }
  ]
}