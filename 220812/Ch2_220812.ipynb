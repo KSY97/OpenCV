{
 "cells": [
  {
   "cell_type": "code",
   "execution_count": 1,
   "id": "4d0aba77",
   "metadata": {},
   "outputs": [],
   "source": [
    "import cv2\n",
    "import numpy as np\n",
    "import sys"
   ]
  },
  {
   "cell_type": "code",
   "execution_count": 3,
   "id": "a086a4c0",
   "metadata": {},
   "outputs": [],
   "source": [
    "src = cv2.imread('../fig/airplane.bmp')\n",
    "mask = cv2.imread('../fig/mask_plane.bmp', 0)\n",
    "dst = cv2.imread('../fig/field.bmp')\n",
    "\n",
    "if src is None or mask is None or dst is None:\n",
    "    print('failed')\n",
    "    sys.exit()\n",
    "\n",
    "# cv2.copyTo(src, mask, dst)\n",
    "\n",
    "dst[mask>0] = src[mask > 0]\n",
    "\n",
    "\n",
    "cv2.imshow('src', src)\n",
    "cv2.imshow('mask', mask)\n",
    "cv2.imshow('dst', dst)\n",
    "\n",
    "while True:\n",
    "    key = cv2.waitKey()\n",
    "    if key == 27 or key == ord('q'):\n",
    "        break\n",
    "        \n",
    "cv2.destroyAllWindows()"
   ]
  },
  {
   "cell_type": "code",
   "execution_count": 7,
   "id": "43a07313",
   "metadata": {},
   "outputs": [],
   "source": [
    "src = cv2.imread('../fig/cow.png')\n",
    "dst = cv2.imread('../fig/green.png')\n",
    "\n",
    "src_gray = cv2.cvtColor(src, cv2.COLOR_BGR2GRAY)\n",
    "\n",
    "retval, mask = cv2.threshold(src_gray, 240, 255, cv2.THRESH_BINARY_INV)\n",
    "\n",
    "h, w = dst.shape[:2]\n",
    "src_h, src_w = src.shape[:2]\n",
    "\n",
    "dst_copy = dst[(h//2)-(src_h//2)+100:(h//2)+(src_h//2)+100 , (w//2)-(src_w//2):(w//2)+(src_w//2)]\n",
    "# dst_copy = dst[100:200, 300:400]\n",
    "dst_resize = cv2.resize(dst, (w, h))\n",
    "\n",
    "cv2.copyTo(src, mask, dst_copy)\n",
    "    \n",
    "# cv2.imshow('src_g', src_gray)\n",
    "cv2.imshow('mask', mask)\n",
    "cv2.imshow('dst_c', dst_copy)\n",
    "cv2.imshow('dst', dst)\n",
    "\n",
    "cv2.imwrite('copy_cow.jpg', dst)\n",
    "\n",
    "while True:\n",
    "    key = cv2.waitKey()\n",
    "    if key == 27 or key == ord('q'):\n",
    "        break\n",
    "        \n",
    "cv2.destroyAllWindows()"
   ]
  },
  {
   "cell_type": "code",
   "execution_count": 12,
   "id": "11cd49bd",
   "metadata": {},
   "outputs": [],
   "source": [
    "src = cv2.imread('../fig/puppy.bmp')\n",
    "sunglass = cv2.imread('../fig/imgbin_sunglasses_1.png', cv2.IMREAD_UNCHANGED)\n",
    "\n",
    "h, w = src.shape[:2]\n",
    "\n",
    "sunglass = cv2.resize(sunglass, (300, 150))\n",
    "\n",
    "crop = src[120:120+150, 220:220+300]\n",
    "\n",
    "mask = sunglass[:, :, -1]\n",
    "glass = sunglass[:,:,0:3]\n",
    "\n",
    "cv2.copyTo(glass, mask, crop)\n",
    "\n",
    "cv2.imshow('src', src)\n",
    "cv2.imshow('mask', mask)\n",
    "cv2.imshow('crop', crop)\n",
    "\n",
    "while True:\n",
    "    key = cv2.waitKey()\n",
    "    if key == 27 or key == ord('q'):\n",
    "        break\n",
    "        \n",
    "cv2.destroyAllWindows()"
   ]
  },
  {
   "cell_type": "code",
   "execution_count": 6,
   "id": "55f4f9b5",
   "metadata": {},
   "outputs": [
    {
     "name": "stdout",
     "output_type": "stream",
     "text": [
      "(800, 500, 4)\n"
     ]
    }
   ],
   "source": [
    "src = cv2.imread('../fig/rudolf.png')\n",
    "hat_glass = cv2.imread('../fig/imgbin_hat.png', cv2.IMREAD_UNCHANGED)\n",
    "\n",
    "h, w = src.shape[:2]\n",
    "\n",
    "hat_glass = cv2.resize(hat_glass, (500, 800))\n",
    "\n",
    "crop = src[50:50+800, 270:270+500]\n",
    "\n",
    "print(hat_glass.shape)\n",
    "\n",
    "mask = hat_glass[:, :, -1]\n",
    "\n",
    "hat_glass = hat_glass[:,:,0:3]\n",
    "\n",
    "cv2.copyTo(hat_glass, mask, crop)\n",
    "\n",
    "cv2.imshow('src', src)\n",
    "cv2.imshow('hat_glass', hat_glass)\n",
    "cv2.imshow('crop', crop)\n",
    "cv2.imshow('mask', mask)\n",
    "\n",
    "\n",
    "cv2.imwrite('copy_rudolf.jpg', src)\n",
    "\n",
    "while True:\n",
    "    key = cv2.waitKey()\n",
    "    if key == 27 or key == ord('q'):\n",
    "        break\n",
    "        \n",
    "cv2.destroyAllWindows()"
   ]
  }
 ],
 "metadata": {
  "kernelspec": {
   "display_name": "Python 3 (ipykernel)",
   "language": "python",
   "name": "python3"
  },
  "language_info": {
   "codemirror_mode": {
    "name": "ipython",
    "version": 3
   },
   "file_extension": ".py",
   "mimetype": "text/x-python",
   "name": "python",
   "nbconvert_exporter": "python",
   "pygments_lexer": "ipython3",
   "version": "3.9.12"
  }
 },
 "nbformat": 4,
 "nbformat_minor": 5
}
